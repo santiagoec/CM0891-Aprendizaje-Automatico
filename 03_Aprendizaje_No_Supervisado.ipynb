{
  "nbformat": 4,
  "nbformat_minor": 0,
  "metadata": {
    "colab": {
      "name": "Aprendizaje_No_Supervisado v2.ipynb",
      "provenance": [],
      "collapsed_sections": [],
      "include_colab_link": true
    },
    "kernelspec": {
      "name": "python3",
      "display_name": "Python 3"
    }
  },
  "cells": [
    {
      "cell_type": "markdown",
      "metadata": {
        "id": "view-in-github",
        "colab_type": "text"
      },
      "source": [
        "<a href=\"https://colab.research.google.com/github/santiagoec/CM0891-Aprendizaje-Automatico/blob/master/03_Aprendizaje_No_Supervisado.ipynb\" target=\"_parent\"><img src=\"https://colab.research.google.com/assets/colab-badge.svg\" alt=\"Open In Colab\"/></a>"
      ]
    },
    {
      "cell_type": "markdown",
      "metadata": {
        "id": "YdCEaQ-vPFA-",
        "colab_type": "text"
      },
      "source": [
        "# Aprendizaje No Supervisado en Python\n",
        "\n",
        "Este libro contiene un estudio de **Aprendizaje No Supervisado** utilizando Python. Esto hace parte del curso de Aprendizaje Automático de la Maestría de Ciencia de Datos.\n",
        "\n",
        "Los integrantes de este trabajo:\n",
        "\n",
        "* Santiago Echeverri Calderon\n",
        "* Edgar Leandro Jimenez Jaimes"
      ]
    },
    {
      "cell_type": "markdown",
      "metadata": {
        "id": "I6eiy7x2PgpO",
        "colab_type": "text"
      },
      "source": [
        "Realizamos la importación de las librerias a utilizar"
      ]
    },
    {
      "cell_type": "code",
      "metadata": {
        "id": "YHzYhJtSP5jW",
        "colab_type": "code",
        "colab": {}
      },
      "source": [
        "import pandas as pd\n",
        "import numpy as np\n",
        "\n",
        "from sklearn.cluster import KMeans\n",
        "from sklearn.cluster import DBSCAN\n",
        "from scipy.cluster.hierarchy import dendrogram\n",
        "from sklearn.cluster import AgglomerativeClustering\n",
        "from sklearn.preprocessing import LabelEncoder\n",
        "from sklearn import metrics\n",
        "from sklearn.decomposition import PCA\n",
        "from sklearn.metrics import silhouette_score\n",
        "from mpl_toolkits.mplot3d import Axes3D\n",
        "from  scipy.cluster.hierarchy import linkage, ward, dendrogram\n",
        "\n",
        "import seaborn as sns\n",
        "import matplotlib.pyplot as plt\n",
        "\n",
        "import warnings\n",
        "warnings.filterwarnings('ignore')\n"
      ],
      "execution_count": 0,
      "outputs": []
    },
    {
      "cell_type": "markdown",
      "metadata": {
        "id": "PVO6gUARDMJX",
        "colab_type": "text"
      },
      "source": [
        "Realizamos la carga del data set a utilizar:\n",
        "\n",
        "Base de datos de reconocimiento de actividad humana construida a partir de las grabaciones de 30 individuos que realizan actividades cotidianas mientras llevan un teléfono inteligente en la cintura con sensores de inercia integrados.\n",
        "Disponible en: \n",
        "https://archive.ics.uci.edu/ml/datasets/human+activity+recognition+using+smartphones\n"
      ]
    },
    {
      "cell_type": "code",
      "metadata": {
        "id": "hssvQaVqPap4",
        "colab_type": "code",
        "outputId": "f42986ea-73f0-4143-f015-46a93b6a6dbb",
        "colab": {
          "base_uri": "https://localhost:8080/",
          "height": 121
        }
      },
      "source": [
        "from google.colab import drive\n",
        "drive.mount('/content/drive')"
      ],
      "execution_count": 2,
      "outputs": [
        {
          "output_type": "stream",
          "text": [
            "Go to this URL in a browser: https://accounts.google.com/o/oauth2/auth?client_id=947318989803-6bn6qk8qdgf4n4g3pfee6491hc0brc4i.apps.googleusercontent.com&redirect_uri=urn%3aietf%3awg%3aoauth%3a2.0%3aoob&response_type=code&scope=email%20https%3a%2f%2fwww.googleapis.com%2fauth%2fdocs.test%20https%3a%2f%2fwww.googleapis.com%2fauth%2fdrive%20https%3a%2f%2fwww.googleapis.com%2fauth%2fdrive.photos.readonly%20https%3a%2f%2fwww.googleapis.com%2fauth%2fpeopleapi.readonly\n",
            "\n",
            "Enter your authorization code:\n",
            "··········\n",
            "Mounted at /content/drive\n"
          ],
          "name": "stdout"
        }
      ]
    },
    {
      "cell_type": "code",
      "metadata": {
        "id": "lZk1srHoDTg4",
        "colab_type": "code",
        "colab": {}
      },
      "source": [
        "# El dataset original se encuentra dividido en 2 archivos, se consolidarán en un único dataframe\n",
        "\n",
        "df1 = pd.read_csv('/content/drive/My Drive/CM0891-Aprendizaje-Automatico/Datasets/human-activity-recognition-with-smartphones/train.csv')\n",
        "df2 = pd.read_csv('/content/drive/My Drive/CM0891-Aprendizaje-Automatico/Datasets/human-activity-recognition-with-smartphones/test.csv')\n",
        "df_unido = df1.append(df2).reset_index(drop=True)"
      ],
      "execution_count": 0,
      "outputs": []
    },
    {
      "cell_type": "markdown",
      "metadata": {
        "id": "K8cw2NiAlvrF",
        "colab_type": "text"
      },
      "source": [
        "# Exploracion inicial del conjunto de datos"
      ]
    },
    {
      "cell_type": "markdown",
      "metadata": {
        "id": "iaAiKnbxQTTO",
        "colab_type": "text"
      },
      "source": [
        "Realizamos una pequeña revision de los datos que acabamos de importar"
      ]
    },
    {
      "cell_type": "code",
      "metadata": {
        "id": "iaY5vt5dS7F8",
        "colab_type": "code",
        "outputId": "1a79d857-c317-43d7-8edc-a093bae41a82",
        "colab": {
          "base_uri": "https://localhost:8080/",
          "height": 101
        }
      },
      "source": [
        "df_unido.info()                 # Revisamos el tipo de datos por cada columna    "
      ],
      "execution_count": 4,
      "outputs": [
        {
          "output_type": "stream",
          "text": [
            "<class 'pandas.core.frame.DataFrame'>\n",
            "RangeIndex: 10299 entries, 0 to 10298\n",
            "Columns: 563 entries, tBodyAcc-mean()-X to Activity\n",
            "dtypes: float64(561), int64(1), object(1)\n",
            "memory usage: 44.2+ MB\n"
          ],
          "name": "stdout"
        }
      ]
    },
    {
      "cell_type": "code",
      "metadata": {
        "id": "3c2Q4JF5PH_G",
        "colab_type": "code",
        "outputId": "55ea5be9-f479-4f3b-ab34-4ae93f9c64cf",
        "colab": {
          "base_uri": "https://localhost:8080/",
          "height": 278
        }
      },
      "source": [
        "df_unido.head(5)                # Imprimimos los primeros 5 registros del dataset"
      ],
      "execution_count": 5,
      "outputs": [
        {
          "output_type": "execute_result",
          "data": {
            "text/html": [
              "<div>\n",
              "<style scoped>\n",
              "    .dataframe tbody tr th:only-of-type {\n",
              "        vertical-align: middle;\n",
              "    }\n",
              "\n",
              "    .dataframe tbody tr th {\n",
              "        vertical-align: top;\n",
              "    }\n",
              "\n",
              "    .dataframe thead th {\n",
              "        text-align: right;\n",
              "    }\n",
              "</style>\n",
              "<table border=\"1\" class=\"dataframe\">\n",
              "  <thead>\n",
              "    <tr style=\"text-align: right;\">\n",
              "      <th></th>\n",
              "      <th>tBodyAcc-mean()-X</th>\n",
              "      <th>tBodyAcc-mean()-Y</th>\n",
              "      <th>tBodyAcc-mean()-Z</th>\n",
              "      <th>tBodyAcc-std()-X</th>\n",
              "      <th>tBodyAcc-std()-Y</th>\n",
              "      <th>tBodyAcc-std()-Z</th>\n",
              "      <th>tBodyAcc-mad()-X</th>\n",
              "      <th>tBodyAcc-mad()-Y</th>\n",
              "      <th>tBodyAcc-mad()-Z</th>\n",
              "      <th>tBodyAcc-max()-X</th>\n",
              "      <th>tBodyAcc-max()-Y</th>\n",
              "      <th>tBodyAcc-max()-Z</th>\n",
              "      <th>tBodyAcc-min()-X</th>\n",
              "      <th>tBodyAcc-min()-Y</th>\n",
              "      <th>tBodyAcc-min()-Z</th>\n",
              "      <th>tBodyAcc-sma()</th>\n",
              "      <th>tBodyAcc-energy()-X</th>\n",
              "      <th>tBodyAcc-energy()-Y</th>\n",
              "      <th>tBodyAcc-energy()-Z</th>\n",
              "      <th>tBodyAcc-iqr()-X</th>\n",
              "      <th>tBodyAcc-iqr()-Y</th>\n",
              "      <th>tBodyAcc-iqr()-Z</th>\n",
              "      <th>tBodyAcc-entropy()-X</th>\n",
              "      <th>tBodyAcc-entropy()-Y</th>\n",
              "      <th>tBodyAcc-entropy()-Z</th>\n",
              "      <th>tBodyAcc-arCoeff()-X,1</th>\n",
              "      <th>tBodyAcc-arCoeff()-X,2</th>\n",
              "      <th>tBodyAcc-arCoeff()-X,3</th>\n",
              "      <th>tBodyAcc-arCoeff()-X,4</th>\n",
              "      <th>tBodyAcc-arCoeff()-Y,1</th>\n",
              "      <th>tBodyAcc-arCoeff()-Y,2</th>\n",
              "      <th>tBodyAcc-arCoeff()-Y,3</th>\n",
              "      <th>tBodyAcc-arCoeff()-Y,4</th>\n",
              "      <th>tBodyAcc-arCoeff()-Z,1</th>\n",
              "      <th>tBodyAcc-arCoeff()-Z,2</th>\n",
              "      <th>tBodyAcc-arCoeff()-Z,3</th>\n",
              "      <th>tBodyAcc-arCoeff()-Z,4</th>\n",
              "      <th>tBodyAcc-correlation()-X,Y</th>\n",
              "      <th>tBodyAcc-correlation()-X,Z</th>\n",
              "      <th>tBodyAcc-correlation()-Y,Z</th>\n",
              "      <th>...</th>\n",
              "      <th>fBodyBodyAccJerkMag-entropy()</th>\n",
              "      <th>fBodyBodyAccJerkMag-maxInds</th>\n",
              "      <th>fBodyBodyAccJerkMag-meanFreq()</th>\n",
              "      <th>fBodyBodyAccJerkMag-skewness()</th>\n",
              "      <th>fBodyBodyAccJerkMag-kurtosis()</th>\n",
              "      <th>fBodyBodyGyroMag-mean()</th>\n",
              "      <th>fBodyBodyGyroMag-std()</th>\n",
              "      <th>fBodyBodyGyroMag-mad()</th>\n",
              "      <th>fBodyBodyGyroMag-max()</th>\n",
              "      <th>fBodyBodyGyroMag-min()</th>\n",
              "      <th>fBodyBodyGyroMag-sma()</th>\n",
              "      <th>fBodyBodyGyroMag-energy()</th>\n",
              "      <th>fBodyBodyGyroMag-iqr()</th>\n",
              "      <th>fBodyBodyGyroMag-entropy()</th>\n",
              "      <th>fBodyBodyGyroMag-maxInds</th>\n",
              "      <th>fBodyBodyGyroMag-meanFreq()</th>\n",
              "      <th>fBodyBodyGyroMag-skewness()</th>\n",
              "      <th>fBodyBodyGyroMag-kurtosis()</th>\n",
              "      <th>fBodyBodyGyroJerkMag-mean()</th>\n",
              "      <th>fBodyBodyGyroJerkMag-std()</th>\n",
              "      <th>fBodyBodyGyroJerkMag-mad()</th>\n",
              "      <th>fBodyBodyGyroJerkMag-max()</th>\n",
              "      <th>fBodyBodyGyroJerkMag-min()</th>\n",
              "      <th>fBodyBodyGyroJerkMag-sma()</th>\n",
              "      <th>fBodyBodyGyroJerkMag-energy()</th>\n",
              "      <th>fBodyBodyGyroJerkMag-iqr()</th>\n",
              "      <th>fBodyBodyGyroJerkMag-entropy()</th>\n",
              "      <th>fBodyBodyGyroJerkMag-maxInds</th>\n",
              "      <th>fBodyBodyGyroJerkMag-meanFreq()</th>\n",
              "      <th>fBodyBodyGyroJerkMag-skewness()</th>\n",
              "      <th>fBodyBodyGyroJerkMag-kurtosis()</th>\n",
              "      <th>angle(tBodyAccMean,gravity)</th>\n",
              "      <th>angle(tBodyAccJerkMean),gravityMean)</th>\n",
              "      <th>angle(tBodyGyroMean,gravityMean)</th>\n",
              "      <th>angle(tBodyGyroJerkMean,gravityMean)</th>\n",
              "      <th>angle(X,gravityMean)</th>\n",
              "      <th>angle(Y,gravityMean)</th>\n",
              "      <th>angle(Z,gravityMean)</th>\n",
              "      <th>subject</th>\n",
              "      <th>Activity</th>\n",
              "    </tr>\n",
              "  </thead>\n",
              "  <tbody>\n",
              "    <tr>\n",
              "      <th>0</th>\n",
              "      <td>0.288585</td>\n",
              "      <td>-0.020294</td>\n",
              "      <td>-0.132905</td>\n",
              "      <td>-0.995279</td>\n",
              "      <td>-0.983111</td>\n",
              "      <td>-0.913526</td>\n",
              "      <td>-0.995112</td>\n",
              "      <td>-0.983185</td>\n",
              "      <td>-0.923527</td>\n",
              "      <td>-0.934724</td>\n",
              "      <td>-0.567378</td>\n",
              "      <td>-0.744413</td>\n",
              "      <td>0.852947</td>\n",
              "      <td>0.685845</td>\n",
              "      <td>0.814263</td>\n",
              "      <td>-0.965523</td>\n",
              "      <td>-0.999945</td>\n",
              "      <td>-0.999863</td>\n",
              "      <td>-0.994612</td>\n",
              "      <td>-0.994231</td>\n",
              "      <td>-0.987614</td>\n",
              "      <td>-0.943220</td>\n",
              "      <td>-0.407747</td>\n",
              "      <td>-0.679338</td>\n",
              "      <td>-0.602122</td>\n",
              "      <td>0.929294</td>\n",
              "      <td>-0.853011</td>\n",
              "      <td>0.359910</td>\n",
              "      <td>-0.058526</td>\n",
              "      <td>0.256892</td>\n",
              "      <td>-0.224848</td>\n",
              "      <td>0.264106</td>\n",
              "      <td>-0.095246</td>\n",
              "      <td>0.278851</td>\n",
              "      <td>-0.465085</td>\n",
              "      <td>0.491936</td>\n",
              "      <td>-0.190884</td>\n",
              "      <td>0.376314</td>\n",
              "      <td>0.435129</td>\n",
              "      <td>0.660790</td>\n",
              "      <td>...</td>\n",
              "      <td>-1.0</td>\n",
              "      <td>-0.936508</td>\n",
              "      <td>0.346989</td>\n",
              "      <td>-0.516080</td>\n",
              "      <td>-0.802760</td>\n",
              "      <td>-0.980135</td>\n",
              "      <td>-0.961309</td>\n",
              "      <td>-0.973653</td>\n",
              "      <td>-0.952264</td>\n",
              "      <td>-0.989498</td>\n",
              "      <td>-0.980135</td>\n",
              "      <td>-0.999240</td>\n",
              "      <td>-0.992656</td>\n",
              "      <td>-0.701291</td>\n",
              "      <td>-1.000000</td>\n",
              "      <td>-0.128989</td>\n",
              "      <td>0.586156</td>\n",
              "      <td>0.374605</td>\n",
              "      <td>-0.991990</td>\n",
              "      <td>-0.990697</td>\n",
              "      <td>-0.989941</td>\n",
              "      <td>-0.992448</td>\n",
              "      <td>-0.991048</td>\n",
              "      <td>-0.991990</td>\n",
              "      <td>-0.999937</td>\n",
              "      <td>-0.990458</td>\n",
              "      <td>-0.871306</td>\n",
              "      <td>-1.000000</td>\n",
              "      <td>-0.074323</td>\n",
              "      <td>-0.298676</td>\n",
              "      <td>-0.710304</td>\n",
              "      <td>-0.112754</td>\n",
              "      <td>0.030400</td>\n",
              "      <td>-0.464761</td>\n",
              "      <td>-0.018446</td>\n",
              "      <td>-0.841247</td>\n",
              "      <td>0.179941</td>\n",
              "      <td>-0.058627</td>\n",
              "      <td>1</td>\n",
              "      <td>STANDING</td>\n",
              "    </tr>\n",
              "    <tr>\n",
              "      <th>1</th>\n",
              "      <td>0.278419</td>\n",
              "      <td>-0.016411</td>\n",
              "      <td>-0.123520</td>\n",
              "      <td>-0.998245</td>\n",
              "      <td>-0.975300</td>\n",
              "      <td>-0.960322</td>\n",
              "      <td>-0.998807</td>\n",
              "      <td>-0.974914</td>\n",
              "      <td>-0.957686</td>\n",
              "      <td>-0.943068</td>\n",
              "      <td>-0.557851</td>\n",
              "      <td>-0.818409</td>\n",
              "      <td>0.849308</td>\n",
              "      <td>0.685845</td>\n",
              "      <td>0.822637</td>\n",
              "      <td>-0.981930</td>\n",
              "      <td>-0.999991</td>\n",
              "      <td>-0.999788</td>\n",
              "      <td>-0.998405</td>\n",
              "      <td>-0.999150</td>\n",
              "      <td>-0.977866</td>\n",
              "      <td>-0.948225</td>\n",
              "      <td>-0.714892</td>\n",
              "      <td>-0.500930</td>\n",
              "      <td>-0.570979</td>\n",
              "      <td>0.611627</td>\n",
              "      <td>-0.329549</td>\n",
              "      <td>0.284213</td>\n",
              "      <td>0.284595</td>\n",
              "      <td>0.115705</td>\n",
              "      <td>-0.090963</td>\n",
              "      <td>0.294310</td>\n",
              "      <td>-0.281211</td>\n",
              "      <td>0.085988</td>\n",
              "      <td>-0.022153</td>\n",
              "      <td>-0.016657</td>\n",
              "      <td>-0.220643</td>\n",
              "      <td>-0.013429</td>\n",
              "      <td>-0.072692</td>\n",
              "      <td>0.579382</td>\n",
              "      <td>...</td>\n",
              "      <td>-1.0</td>\n",
              "      <td>-0.841270</td>\n",
              "      <td>0.532061</td>\n",
              "      <td>-0.624871</td>\n",
              "      <td>-0.900160</td>\n",
              "      <td>-0.988296</td>\n",
              "      <td>-0.983322</td>\n",
              "      <td>-0.982659</td>\n",
              "      <td>-0.986321</td>\n",
              "      <td>-0.991829</td>\n",
              "      <td>-0.988296</td>\n",
              "      <td>-0.999811</td>\n",
              "      <td>-0.993979</td>\n",
              "      <td>-0.720683</td>\n",
              "      <td>-0.948718</td>\n",
              "      <td>-0.271958</td>\n",
              "      <td>-0.336310</td>\n",
              "      <td>-0.720015</td>\n",
              "      <td>-0.995854</td>\n",
              "      <td>-0.996399</td>\n",
              "      <td>-0.995442</td>\n",
              "      <td>-0.996866</td>\n",
              "      <td>-0.994440</td>\n",
              "      <td>-0.995854</td>\n",
              "      <td>-0.999981</td>\n",
              "      <td>-0.994544</td>\n",
              "      <td>-1.000000</td>\n",
              "      <td>-1.000000</td>\n",
              "      <td>0.158075</td>\n",
              "      <td>-0.595051</td>\n",
              "      <td>-0.861499</td>\n",
              "      <td>0.053477</td>\n",
              "      <td>-0.007435</td>\n",
              "      <td>-0.732626</td>\n",
              "      <td>0.703511</td>\n",
              "      <td>-0.844788</td>\n",
              "      <td>0.180289</td>\n",
              "      <td>-0.054317</td>\n",
              "      <td>1</td>\n",
              "      <td>STANDING</td>\n",
              "    </tr>\n",
              "    <tr>\n",
              "      <th>2</th>\n",
              "      <td>0.279653</td>\n",
              "      <td>-0.019467</td>\n",
              "      <td>-0.113462</td>\n",
              "      <td>-0.995380</td>\n",
              "      <td>-0.967187</td>\n",
              "      <td>-0.978944</td>\n",
              "      <td>-0.996520</td>\n",
              "      <td>-0.963668</td>\n",
              "      <td>-0.977469</td>\n",
              "      <td>-0.938692</td>\n",
              "      <td>-0.557851</td>\n",
              "      <td>-0.818409</td>\n",
              "      <td>0.843609</td>\n",
              "      <td>0.682401</td>\n",
              "      <td>0.839344</td>\n",
              "      <td>-0.983478</td>\n",
              "      <td>-0.999969</td>\n",
              "      <td>-0.999660</td>\n",
              "      <td>-0.999470</td>\n",
              "      <td>-0.997130</td>\n",
              "      <td>-0.964810</td>\n",
              "      <td>-0.974675</td>\n",
              "      <td>-0.592235</td>\n",
              "      <td>-0.485821</td>\n",
              "      <td>-0.570979</td>\n",
              "      <td>0.273025</td>\n",
              "      <td>-0.086309</td>\n",
              "      <td>0.337202</td>\n",
              "      <td>-0.164739</td>\n",
              "      <td>0.017150</td>\n",
              "      <td>-0.074507</td>\n",
              "      <td>0.342256</td>\n",
              "      <td>-0.332564</td>\n",
              "      <td>0.239281</td>\n",
              "      <td>-0.136204</td>\n",
              "      <td>0.173863</td>\n",
              "      <td>-0.299493</td>\n",
              "      <td>-0.124698</td>\n",
              "      <td>-0.181105</td>\n",
              "      <td>0.608900</td>\n",
              "      <td>...</td>\n",
              "      <td>-1.0</td>\n",
              "      <td>-0.904762</td>\n",
              "      <td>0.660795</td>\n",
              "      <td>-0.724697</td>\n",
              "      <td>-0.928539</td>\n",
              "      <td>-0.989255</td>\n",
              "      <td>-0.986028</td>\n",
              "      <td>-0.984274</td>\n",
              "      <td>-0.990979</td>\n",
              "      <td>-0.995703</td>\n",
              "      <td>-0.989255</td>\n",
              "      <td>-0.999854</td>\n",
              "      <td>-0.993238</td>\n",
              "      <td>-0.736521</td>\n",
              "      <td>-0.794872</td>\n",
              "      <td>-0.212728</td>\n",
              "      <td>-0.535352</td>\n",
              "      <td>-0.871914</td>\n",
              "      <td>-0.995031</td>\n",
              "      <td>-0.995127</td>\n",
              "      <td>-0.994640</td>\n",
              "      <td>-0.996060</td>\n",
              "      <td>-0.995866</td>\n",
              "      <td>-0.995031</td>\n",
              "      <td>-0.999973</td>\n",
              "      <td>-0.993755</td>\n",
              "      <td>-1.000000</td>\n",
              "      <td>-0.555556</td>\n",
              "      <td>0.414503</td>\n",
              "      <td>-0.390748</td>\n",
              "      <td>-0.760104</td>\n",
              "      <td>-0.118559</td>\n",
              "      <td>0.177899</td>\n",
              "      <td>0.100699</td>\n",
              "      <td>0.808529</td>\n",
              "      <td>-0.848933</td>\n",
              "      <td>0.180637</td>\n",
              "      <td>-0.049118</td>\n",
              "      <td>1</td>\n",
              "      <td>STANDING</td>\n",
              "    </tr>\n",
              "    <tr>\n",
              "      <th>3</th>\n",
              "      <td>0.279174</td>\n",
              "      <td>-0.026201</td>\n",
              "      <td>-0.123283</td>\n",
              "      <td>-0.996091</td>\n",
              "      <td>-0.983403</td>\n",
              "      <td>-0.990675</td>\n",
              "      <td>-0.997099</td>\n",
              "      <td>-0.982750</td>\n",
              "      <td>-0.989302</td>\n",
              "      <td>-0.938692</td>\n",
              "      <td>-0.576159</td>\n",
              "      <td>-0.829711</td>\n",
              "      <td>0.843609</td>\n",
              "      <td>0.682401</td>\n",
              "      <td>0.837869</td>\n",
              "      <td>-0.986093</td>\n",
              "      <td>-0.999976</td>\n",
              "      <td>-0.999736</td>\n",
              "      <td>-0.999504</td>\n",
              "      <td>-0.997180</td>\n",
              "      <td>-0.983799</td>\n",
              "      <td>-0.986007</td>\n",
              "      <td>-0.627446</td>\n",
              "      <td>-0.850930</td>\n",
              "      <td>-0.911872</td>\n",
              "      <td>0.061436</td>\n",
              "      <td>0.074840</td>\n",
              "      <td>0.198204</td>\n",
              "      <td>-0.264307</td>\n",
              "      <td>0.072545</td>\n",
              "      <td>-0.155320</td>\n",
              "      <td>0.323154</td>\n",
              "      <td>-0.170813</td>\n",
              "      <td>0.294938</td>\n",
              "      <td>-0.306081</td>\n",
              "      <td>0.482148</td>\n",
              "      <td>-0.470129</td>\n",
              "      <td>-0.305693</td>\n",
              "      <td>-0.362654</td>\n",
              "      <td>0.507459</td>\n",
              "      <td>...</td>\n",
              "      <td>-1.0</td>\n",
              "      <td>1.000000</td>\n",
              "      <td>0.678921</td>\n",
              "      <td>-0.701131</td>\n",
              "      <td>-0.909639</td>\n",
              "      <td>-0.989413</td>\n",
              "      <td>-0.987836</td>\n",
              "      <td>-0.986850</td>\n",
              "      <td>-0.986749</td>\n",
              "      <td>-0.996199</td>\n",
              "      <td>-0.989413</td>\n",
              "      <td>-0.999876</td>\n",
              "      <td>-0.989136</td>\n",
              "      <td>-0.720891</td>\n",
              "      <td>-1.000000</td>\n",
              "      <td>-0.035684</td>\n",
              "      <td>-0.230091</td>\n",
              "      <td>-0.511217</td>\n",
              "      <td>-0.995221</td>\n",
              "      <td>-0.995237</td>\n",
              "      <td>-0.995722</td>\n",
              "      <td>-0.995273</td>\n",
              "      <td>-0.995732</td>\n",
              "      <td>-0.995221</td>\n",
              "      <td>-0.999974</td>\n",
              "      <td>-0.995226</td>\n",
              "      <td>-0.955696</td>\n",
              "      <td>-0.936508</td>\n",
              "      <td>0.404573</td>\n",
              "      <td>-0.117290</td>\n",
              "      <td>-0.482845</td>\n",
              "      <td>-0.036788</td>\n",
              "      <td>-0.012892</td>\n",
              "      <td>0.640011</td>\n",
              "      <td>-0.485366</td>\n",
              "      <td>-0.848649</td>\n",
              "      <td>0.181935</td>\n",
              "      <td>-0.047663</td>\n",
              "      <td>1</td>\n",
              "      <td>STANDING</td>\n",
              "    </tr>\n",
              "    <tr>\n",
              "      <th>4</th>\n",
              "      <td>0.276629</td>\n",
              "      <td>-0.016570</td>\n",
              "      <td>-0.115362</td>\n",
              "      <td>-0.998139</td>\n",
              "      <td>-0.980817</td>\n",
              "      <td>-0.990482</td>\n",
              "      <td>-0.998321</td>\n",
              "      <td>-0.979672</td>\n",
              "      <td>-0.990441</td>\n",
              "      <td>-0.942469</td>\n",
              "      <td>-0.569174</td>\n",
              "      <td>-0.824705</td>\n",
              "      <td>0.849095</td>\n",
              "      <td>0.683250</td>\n",
              "      <td>0.837869</td>\n",
              "      <td>-0.992653</td>\n",
              "      <td>-0.999991</td>\n",
              "      <td>-0.999856</td>\n",
              "      <td>-0.999757</td>\n",
              "      <td>-0.998004</td>\n",
              "      <td>-0.981232</td>\n",
              "      <td>-0.991325</td>\n",
              "      <td>-0.786553</td>\n",
              "      <td>-0.559477</td>\n",
              "      <td>-0.761434</td>\n",
              "      <td>0.313276</td>\n",
              "      <td>-0.131208</td>\n",
              "      <td>0.191161</td>\n",
              "      <td>0.086904</td>\n",
              "      <td>0.257615</td>\n",
              "      <td>-0.272505</td>\n",
              "      <td>0.434728</td>\n",
              "      <td>-0.315375</td>\n",
              "      <td>0.439744</td>\n",
              "      <td>-0.269069</td>\n",
              "      <td>0.179414</td>\n",
              "      <td>-0.088952</td>\n",
              "      <td>-0.155804</td>\n",
              "      <td>-0.189763</td>\n",
              "      <td>0.599213</td>\n",
              "      <td>...</td>\n",
              "      <td>-1.0</td>\n",
              "      <td>-1.000000</td>\n",
              "      <td>0.559058</td>\n",
              "      <td>-0.528901</td>\n",
              "      <td>-0.858933</td>\n",
              "      <td>-0.991433</td>\n",
              "      <td>-0.989059</td>\n",
              "      <td>-0.987744</td>\n",
              "      <td>-0.991462</td>\n",
              "      <td>-0.998353</td>\n",
              "      <td>-0.991433</td>\n",
              "      <td>-0.999902</td>\n",
              "      <td>-0.989321</td>\n",
              "      <td>-0.763372</td>\n",
              "      <td>-0.897436</td>\n",
              "      <td>-0.273582</td>\n",
              "      <td>-0.510282</td>\n",
              "      <td>-0.830702</td>\n",
              "      <td>-0.995093</td>\n",
              "      <td>-0.995465</td>\n",
              "      <td>-0.995279</td>\n",
              "      <td>-0.995609</td>\n",
              "      <td>-0.997418</td>\n",
              "      <td>-0.995093</td>\n",
              "      <td>-0.999974</td>\n",
              "      <td>-0.995487</td>\n",
              "      <td>-1.000000</td>\n",
              "      <td>-0.936508</td>\n",
              "      <td>0.087753</td>\n",
              "      <td>-0.351471</td>\n",
              "      <td>-0.699205</td>\n",
              "      <td>0.123320</td>\n",
              "      <td>0.122542</td>\n",
              "      <td>0.693578</td>\n",
              "      <td>-0.615971</td>\n",
              "      <td>-0.847865</td>\n",
              "      <td>0.185151</td>\n",
              "      <td>-0.043892</td>\n",
              "      <td>1</td>\n",
              "      <td>STANDING</td>\n",
              "    </tr>\n",
              "  </tbody>\n",
              "</table>\n",
              "<p>5 rows × 563 columns</p>\n",
              "</div>"
            ],
            "text/plain": [
              "   tBodyAcc-mean()-X  tBodyAcc-mean()-Y  ...  subject  Activity\n",
              "0           0.288585          -0.020294  ...        1  STANDING\n",
              "1           0.278419          -0.016411  ...        1  STANDING\n",
              "2           0.279653          -0.019467  ...        1  STANDING\n",
              "3           0.279174          -0.026201  ...        1  STANDING\n",
              "4           0.276629          -0.016570  ...        1  STANDING\n",
              "\n",
              "[5 rows x 563 columns]"
            ]
          },
          "metadata": {
            "tags": []
          },
          "execution_count": 5
        }
      ]
    },
    {
      "cell_type": "code",
      "metadata": {
        "id": "7-OaQr8eZ665",
        "colab_type": "code",
        "colab": {}
      },
      "source": [
        "# Remoción de las columnas Activity y subject\n",
        "df_etiquetas = df_unido['Activity'].to_frame(name = 'Activity')\n",
        "df_atributos = df_unido.drop(['subject', 'Activity'], 1)"
      ],
      "execution_count": 0,
      "outputs": []
    },
    {
      "cell_type": "code",
      "metadata": {
        "id": "uFP1CIn_fItP",
        "colab_type": "code",
        "outputId": "dcf06537-28ee-412b-c48b-3fe10a91f8fd",
        "colab": {
          "base_uri": "https://localhost:8080/",
          "height": 225
        }
      },
      "source": [
        "# Creación de códigos numéricos para las clases de 'Activity'\n",
        "lb_activity = LabelEncoder()\n",
        "df_etiquetas[\"Activity_code\"] = lb_activity.fit_transform(df_etiquetas[\"Activity\"])\n",
        "codigos = df_etiquetas.groupby([\"Activity\", \"Activity_code\"]).size().reset_index(name='count')\n",
        "codigos"
      ],
      "execution_count": 7,
      "outputs": [
        {
          "output_type": "execute_result",
          "data": {
            "text/html": [
              "<div>\n",
              "<style scoped>\n",
              "    .dataframe tbody tr th:only-of-type {\n",
              "        vertical-align: middle;\n",
              "    }\n",
              "\n",
              "    .dataframe tbody tr th {\n",
              "        vertical-align: top;\n",
              "    }\n",
              "\n",
              "    .dataframe thead th {\n",
              "        text-align: right;\n",
              "    }\n",
              "</style>\n",
              "<table border=\"1\" class=\"dataframe\">\n",
              "  <thead>\n",
              "    <tr style=\"text-align: right;\">\n",
              "      <th></th>\n",
              "      <th>Activity</th>\n",
              "      <th>Activity_code</th>\n",
              "      <th>count</th>\n",
              "    </tr>\n",
              "  </thead>\n",
              "  <tbody>\n",
              "    <tr>\n",
              "      <th>0</th>\n",
              "      <td>LAYING</td>\n",
              "      <td>0</td>\n",
              "      <td>1944</td>\n",
              "    </tr>\n",
              "    <tr>\n",
              "      <th>1</th>\n",
              "      <td>SITTING</td>\n",
              "      <td>1</td>\n",
              "      <td>1777</td>\n",
              "    </tr>\n",
              "    <tr>\n",
              "      <th>2</th>\n",
              "      <td>STANDING</td>\n",
              "      <td>2</td>\n",
              "      <td>1906</td>\n",
              "    </tr>\n",
              "    <tr>\n",
              "      <th>3</th>\n",
              "      <td>WALKING</td>\n",
              "      <td>3</td>\n",
              "      <td>1722</td>\n",
              "    </tr>\n",
              "    <tr>\n",
              "      <th>4</th>\n",
              "      <td>WALKING_DOWNSTAIRS</td>\n",
              "      <td>4</td>\n",
              "      <td>1406</td>\n",
              "    </tr>\n",
              "    <tr>\n",
              "      <th>5</th>\n",
              "      <td>WALKING_UPSTAIRS</td>\n",
              "      <td>5</td>\n",
              "      <td>1544</td>\n",
              "    </tr>\n",
              "  </tbody>\n",
              "</table>\n",
              "</div>"
            ],
            "text/plain": [
              "             Activity  Activity_code  count\n",
              "0              LAYING              0   1944\n",
              "1             SITTING              1   1777\n",
              "2            STANDING              2   1906\n",
              "3             WALKING              3   1722\n",
              "4  WALKING_DOWNSTAIRS              4   1406\n",
              "5    WALKING_UPSTAIRS              5   1544"
            ]
          },
          "metadata": {
            "tags": []
          },
          "execution_count": 7
        }
      ]
    },
    {
      "cell_type": "code",
      "metadata": {
        "id": "ylJ9cJb3Orgr",
        "colab_type": "code",
        "outputId": "1bfca985-8ea3-4459-f9bd-c36a58b46729",
        "colab": {
          "base_uri": "https://localhost:8080/",
          "height": 366
        }
      },
      "source": [
        "df_atributos.describe()           # Realizamos una estadistica descriptiva rapida del conjunto de datos"
      ],
      "execution_count": 8,
      "outputs": [
        {
          "output_type": "execute_result",
          "data": {
            "text/html": [
              "<div>\n",
              "<style scoped>\n",
              "    .dataframe tbody tr th:only-of-type {\n",
              "        vertical-align: middle;\n",
              "    }\n",
              "\n",
              "    .dataframe tbody tr th {\n",
              "        vertical-align: top;\n",
              "    }\n",
              "\n",
              "    .dataframe thead th {\n",
              "        text-align: right;\n",
              "    }\n",
              "</style>\n",
              "<table border=\"1\" class=\"dataframe\">\n",
              "  <thead>\n",
              "    <tr style=\"text-align: right;\">\n",
              "      <th></th>\n",
              "      <th>tBodyAcc-mean()-X</th>\n",
              "      <th>tBodyAcc-mean()-Y</th>\n",
              "      <th>tBodyAcc-mean()-Z</th>\n",
              "      <th>tBodyAcc-std()-X</th>\n",
              "      <th>tBodyAcc-std()-Y</th>\n",
              "      <th>tBodyAcc-std()-Z</th>\n",
              "      <th>tBodyAcc-mad()-X</th>\n",
              "      <th>tBodyAcc-mad()-Y</th>\n",
              "      <th>tBodyAcc-mad()-Z</th>\n",
              "      <th>tBodyAcc-max()-X</th>\n",
              "      <th>tBodyAcc-max()-Y</th>\n",
              "      <th>tBodyAcc-max()-Z</th>\n",
              "      <th>tBodyAcc-min()-X</th>\n",
              "      <th>tBodyAcc-min()-Y</th>\n",
              "      <th>tBodyAcc-min()-Z</th>\n",
              "      <th>tBodyAcc-sma()</th>\n",
              "      <th>tBodyAcc-energy()-X</th>\n",
              "      <th>tBodyAcc-energy()-Y</th>\n",
              "      <th>tBodyAcc-energy()-Z</th>\n",
              "      <th>tBodyAcc-iqr()-X</th>\n",
              "      <th>tBodyAcc-iqr()-Y</th>\n",
              "      <th>tBodyAcc-iqr()-Z</th>\n",
              "      <th>tBodyAcc-entropy()-X</th>\n",
              "      <th>tBodyAcc-entropy()-Y</th>\n",
              "      <th>tBodyAcc-entropy()-Z</th>\n",
              "      <th>tBodyAcc-arCoeff()-X,1</th>\n",
              "      <th>tBodyAcc-arCoeff()-X,2</th>\n",
              "      <th>tBodyAcc-arCoeff()-X,3</th>\n",
              "      <th>tBodyAcc-arCoeff()-X,4</th>\n",
              "      <th>tBodyAcc-arCoeff()-Y,1</th>\n",
              "      <th>tBodyAcc-arCoeff()-Y,2</th>\n",
              "      <th>tBodyAcc-arCoeff()-Y,3</th>\n",
              "      <th>tBodyAcc-arCoeff()-Y,4</th>\n",
              "      <th>tBodyAcc-arCoeff()-Z,1</th>\n",
              "      <th>tBodyAcc-arCoeff()-Z,2</th>\n",
              "      <th>tBodyAcc-arCoeff()-Z,3</th>\n",
              "      <th>tBodyAcc-arCoeff()-Z,4</th>\n",
              "      <th>tBodyAcc-correlation()-X,Y</th>\n",
              "      <th>tBodyAcc-correlation()-X,Z</th>\n",
              "      <th>tBodyAcc-correlation()-Y,Z</th>\n",
              "      <th>...</th>\n",
              "      <th>fBodyBodyAccJerkMag-energy()</th>\n",
              "      <th>fBodyBodyAccJerkMag-iqr()</th>\n",
              "      <th>fBodyBodyAccJerkMag-entropy()</th>\n",
              "      <th>fBodyBodyAccJerkMag-maxInds</th>\n",
              "      <th>fBodyBodyAccJerkMag-meanFreq()</th>\n",
              "      <th>fBodyBodyAccJerkMag-skewness()</th>\n",
              "      <th>fBodyBodyAccJerkMag-kurtosis()</th>\n",
              "      <th>fBodyBodyGyroMag-mean()</th>\n",
              "      <th>fBodyBodyGyroMag-std()</th>\n",
              "      <th>fBodyBodyGyroMag-mad()</th>\n",
              "      <th>fBodyBodyGyroMag-max()</th>\n",
              "      <th>fBodyBodyGyroMag-min()</th>\n",
              "      <th>fBodyBodyGyroMag-sma()</th>\n",
              "      <th>fBodyBodyGyroMag-energy()</th>\n",
              "      <th>fBodyBodyGyroMag-iqr()</th>\n",
              "      <th>fBodyBodyGyroMag-entropy()</th>\n",
              "      <th>fBodyBodyGyroMag-maxInds</th>\n",
              "      <th>fBodyBodyGyroMag-meanFreq()</th>\n",
              "      <th>fBodyBodyGyroMag-skewness()</th>\n",
              "      <th>fBodyBodyGyroMag-kurtosis()</th>\n",
              "      <th>fBodyBodyGyroJerkMag-mean()</th>\n",
              "      <th>fBodyBodyGyroJerkMag-std()</th>\n",
              "      <th>fBodyBodyGyroJerkMag-mad()</th>\n",
              "      <th>fBodyBodyGyroJerkMag-max()</th>\n",
              "      <th>fBodyBodyGyroJerkMag-min()</th>\n",
              "      <th>fBodyBodyGyroJerkMag-sma()</th>\n",
              "      <th>fBodyBodyGyroJerkMag-energy()</th>\n",
              "      <th>fBodyBodyGyroJerkMag-iqr()</th>\n",
              "      <th>fBodyBodyGyroJerkMag-entropy()</th>\n",
              "      <th>fBodyBodyGyroJerkMag-maxInds</th>\n",
              "      <th>fBodyBodyGyroJerkMag-meanFreq()</th>\n",
              "      <th>fBodyBodyGyroJerkMag-skewness()</th>\n",
              "      <th>fBodyBodyGyroJerkMag-kurtosis()</th>\n",
              "      <th>angle(tBodyAccMean,gravity)</th>\n",
              "      <th>angle(tBodyAccJerkMean),gravityMean)</th>\n",
              "      <th>angle(tBodyGyroMean,gravityMean)</th>\n",
              "      <th>angle(tBodyGyroJerkMean,gravityMean)</th>\n",
              "      <th>angle(X,gravityMean)</th>\n",
              "      <th>angle(Y,gravityMean)</th>\n",
              "      <th>angle(Z,gravityMean)</th>\n",
              "    </tr>\n",
              "  </thead>\n",
              "  <tbody>\n",
              "    <tr>\n",
              "      <th>count</th>\n",
              "      <td>10299.000000</td>\n",
              "      <td>10299.000000</td>\n",
              "      <td>10299.000000</td>\n",
              "      <td>10299.000000</td>\n",
              "      <td>10299.000000</td>\n",
              "      <td>10299.000000</td>\n",
              "      <td>10299.000000</td>\n",
              "      <td>10299.000000</td>\n",
              "      <td>10299.000000</td>\n",
              "      <td>10299.000000</td>\n",
              "      <td>10299.000000</td>\n",
              "      <td>10299.000000</td>\n",
              "      <td>10299.000000</td>\n",
              "      <td>10299.000000</td>\n",
              "      <td>10299.000000</td>\n",
              "      <td>10299.000000</td>\n",
              "      <td>10299.000000</td>\n",
              "      <td>10299.000000</td>\n",
              "      <td>10299.000000</td>\n",
              "      <td>10299.000000</td>\n",
              "      <td>10299.000000</td>\n",
              "      <td>10299.000000</td>\n",
              "      <td>10299.000000</td>\n",
              "      <td>10299.000000</td>\n",
              "      <td>10299.000000</td>\n",
              "      <td>10299.000000</td>\n",
              "      <td>10299.000000</td>\n",
              "      <td>10299.000000</td>\n",
              "      <td>10299.000000</td>\n",
              "      <td>10299.000000</td>\n",
              "      <td>10299.000000</td>\n",
              "      <td>10299.000000</td>\n",
              "      <td>10299.000000</td>\n",
              "      <td>10299.000000</td>\n",
              "      <td>10299.000000</td>\n",
              "      <td>10299.000000</td>\n",
              "      <td>10299.000000</td>\n",
              "      <td>10299.000000</td>\n",
              "      <td>10299.000000</td>\n",
              "      <td>10299.000000</td>\n",
              "      <td>...</td>\n",
              "      <td>10299.000000</td>\n",
              "      <td>10299.000000</td>\n",
              "      <td>10299.000000</td>\n",
              "      <td>10299.000000</td>\n",
              "      <td>10299.000000</td>\n",
              "      <td>10299.000000</td>\n",
              "      <td>10299.000000</td>\n",
              "      <td>10299.000000</td>\n",
              "      <td>10299.000000</td>\n",
              "      <td>10299.000000</td>\n",
              "      <td>10299.000000</td>\n",
              "      <td>10299.000000</td>\n",
              "      <td>10299.000000</td>\n",
              "      <td>10299.000000</td>\n",
              "      <td>10299.000000</td>\n",
              "      <td>10299.000000</td>\n",
              "      <td>10299.000000</td>\n",
              "      <td>10299.000000</td>\n",
              "      <td>10299.000000</td>\n",
              "      <td>10299.000000</td>\n",
              "      <td>10299.000000</td>\n",
              "      <td>10299.000000</td>\n",
              "      <td>10299.000000</td>\n",
              "      <td>10299.000000</td>\n",
              "      <td>10299.000000</td>\n",
              "      <td>10299.000000</td>\n",
              "      <td>10299.000000</td>\n",
              "      <td>10299.000000</td>\n",
              "      <td>10299.000000</td>\n",
              "      <td>10299.000000</td>\n",
              "      <td>10299.000000</td>\n",
              "      <td>10299.000000</td>\n",
              "      <td>10299.000000</td>\n",
              "      <td>10299.000000</td>\n",
              "      <td>10299.000000</td>\n",
              "      <td>10299.000000</td>\n",
              "      <td>10299.000000</td>\n",
              "      <td>10299.000000</td>\n",
              "      <td>10299.000000</td>\n",
              "      <td>10299.000000</td>\n",
              "    </tr>\n",
              "    <tr>\n",
              "      <th>mean</th>\n",
              "      <td>0.274347</td>\n",
              "      <td>-0.017743</td>\n",
              "      <td>-0.108925</td>\n",
              "      <td>-0.607784</td>\n",
              "      <td>-0.510191</td>\n",
              "      <td>-0.613064</td>\n",
              "      <td>-0.633593</td>\n",
              "      <td>-0.525697</td>\n",
              "      <td>-0.614989</td>\n",
              "      <td>-0.466732</td>\n",
              "      <td>-0.305180</td>\n",
              "      <td>-0.562230</td>\n",
              "      <td>0.525304</td>\n",
              "      <td>0.389537</td>\n",
              "      <td>0.598022</td>\n",
              "      <td>-0.552087</td>\n",
              "      <td>-0.825460</td>\n",
              "      <td>-0.902704</td>\n",
              "      <td>-0.854662</td>\n",
              "      <td>-0.689162</td>\n",
              "      <td>-0.643512</td>\n",
              "      <td>-0.640686</td>\n",
              "      <td>-0.100332</td>\n",
              "      <td>-0.128765</td>\n",
              "      <td>-0.157863</td>\n",
              "      <td>-0.118954</td>\n",
              "      <td>0.108574</td>\n",
              "      <td>-0.035699</td>\n",
              "      <td>0.122000</td>\n",
              "      <td>-0.029677</td>\n",
              "      <td>0.031724</td>\n",
              "      <td>0.155148</td>\n",
              "      <td>-0.018077</td>\n",
              "      <td>0.006110</td>\n",
              "      <td>0.037729</td>\n",
              "      <td>0.034424</td>\n",
              "      <td>-0.082669</td>\n",
              "      <td>-0.120309</td>\n",
              "      <td>-0.197746</td>\n",
              "      <td>0.102199</td>\n",
              "      <td>...</td>\n",
              "      <td>-0.840996</td>\n",
              "      <td>-0.676629</td>\n",
              "      <td>-0.338469</td>\n",
              "      <td>-0.877800</td>\n",
              "      <td>0.173220</td>\n",
              "      <td>-0.298598</td>\n",
              "      <td>-0.601659</td>\n",
              "      <td>-0.697411</td>\n",
              "      <td>-0.699976</td>\n",
              "      <td>-0.681014</td>\n",
              "      <td>-0.734623</td>\n",
              "      <td>-0.888701</td>\n",
              "      <td>-0.697411</td>\n",
              "      <td>-0.881301</td>\n",
              "      <td>-0.722125</td>\n",
              "      <td>-0.076279</td>\n",
              "      <td>-0.886999</td>\n",
              "      <td>-0.041564</td>\n",
              "      <td>-0.264279</td>\n",
              "      <td>-0.575866</td>\n",
              "      <td>-0.779768</td>\n",
              "      <td>-0.792190</td>\n",
              "      <td>-0.773404</td>\n",
              "      <td>-0.809934</td>\n",
              "      <td>-0.871201</td>\n",
              "      <td>-0.779768</td>\n",
              "      <td>-0.937898</td>\n",
              "      <td>-0.772715</td>\n",
              "      <td>-0.274339</td>\n",
              "      <td>-0.900033</td>\n",
              "      <td>0.126708</td>\n",
              "      <td>-0.298592</td>\n",
              "      <td>-0.617700</td>\n",
              "      <td>0.007705</td>\n",
              "      <td>0.002648</td>\n",
              "      <td>0.017683</td>\n",
              "      <td>-0.009219</td>\n",
              "      <td>-0.496522</td>\n",
              "      <td>0.063255</td>\n",
              "      <td>-0.054284</td>\n",
              "    </tr>\n",
              "    <tr>\n",
              "      <th>std</th>\n",
              "      <td>0.067628</td>\n",
              "      <td>0.037128</td>\n",
              "      <td>0.053033</td>\n",
              "      <td>0.438694</td>\n",
              "      <td>0.500240</td>\n",
              "      <td>0.403657</td>\n",
              "      <td>0.413333</td>\n",
              "      <td>0.484201</td>\n",
              "      <td>0.399034</td>\n",
              "      <td>0.538707</td>\n",
              "      <td>0.279920</td>\n",
              "      <td>0.282991</td>\n",
              "      <td>0.356589</td>\n",
              "      <td>0.338844</td>\n",
              "      <td>0.290615</td>\n",
              "      <td>0.461375</td>\n",
              "      <td>0.247052</td>\n",
              "      <td>0.125988</td>\n",
              "      <td>0.205998</td>\n",
              "      <td>0.359209</td>\n",
              "      <td>0.368865</td>\n",
              "      <td>0.372065</td>\n",
              "      <td>0.462315</td>\n",
              "      <td>0.433687</td>\n",
              "      <td>0.368102</td>\n",
              "      <td>0.307721</td>\n",
              "      <td>0.247140</td>\n",
              "      <td>0.247820</td>\n",
              "      <td>0.232044</td>\n",
              "      <td>0.254461</td>\n",
              "      <td>0.213708</td>\n",
              "      <td>0.208718</td>\n",
              "      <td>0.220257</td>\n",
              "      <td>0.281722</td>\n",
              "      <td>0.215456</td>\n",
              "      <td>0.236854</td>\n",
              "      <td>0.230957</td>\n",
              "      <td>0.357677</td>\n",
              "      <td>0.325103</td>\n",
              "      <td>0.376049</td>\n",
              "      <td>...</td>\n",
              "      <td>0.228000</td>\n",
              "      <td>0.365550</td>\n",
              "      <td>0.666857</td>\n",
              "      <td>0.189655</td>\n",
              "      <td>0.252537</td>\n",
              "      <td>0.364723</td>\n",
              "      <td>0.353928</td>\n",
              "      <td>0.323701</td>\n",
              "      <td>0.310443</td>\n",
              "      <td>0.331222</td>\n",
              "      <td>0.281107</td>\n",
              "      <td>0.163587</td>\n",
              "      <td>0.323701</td>\n",
              "      <td>0.180432</td>\n",
              "      <td>0.310562</td>\n",
              "      <td>0.602930</td>\n",
              "      <td>0.159981</td>\n",
              "      <td>0.280142</td>\n",
              "      <td>0.322579</td>\n",
              "      <td>0.320006</td>\n",
              "      <td>0.267592</td>\n",
              "      <td>0.259160</td>\n",
              "      <td>0.279727</td>\n",
              "      <td>0.242697</td>\n",
              "      <td>0.189627</td>\n",
              "      <td>0.267592</td>\n",
              "      <td>0.128284</td>\n",
              "      <td>0.278403</td>\n",
              "      <td>0.624272</td>\n",
              "      <td>0.139691</td>\n",
              "      <td>0.245443</td>\n",
              "      <td>0.320199</td>\n",
              "      <td>0.308796</td>\n",
              "      <td>0.336591</td>\n",
              "      <td>0.447364</td>\n",
              "      <td>0.616188</td>\n",
              "      <td>0.484770</td>\n",
              "      <td>0.511158</td>\n",
              "      <td>0.305468</td>\n",
              "      <td>0.268898</td>\n",
              "    </tr>\n",
              "    <tr>\n",
              "      <th>min</th>\n",
              "      <td>-1.000000</td>\n",
              "      <td>-1.000000</td>\n",
              "      <td>-1.000000</td>\n",
              "      <td>-1.000000</td>\n",
              "      <td>-1.000000</td>\n",
              "      <td>-1.000000</td>\n",
              "      <td>-1.000000</td>\n",
              "      <td>-1.000000</td>\n",
              "      <td>-1.000000</td>\n",
              "      <td>-1.000000</td>\n",
              "      <td>-1.000000</td>\n",
              "      <td>-1.000000</td>\n",
              "      <td>-1.000000</td>\n",
              "      <td>-1.000000</td>\n",
              "      <td>-1.000000</td>\n",
              "      <td>-1.000000</td>\n",
              "      <td>-1.000000</td>\n",
              "      <td>-1.000000</td>\n",
              "      <td>-1.000000</td>\n",
              "      <td>-1.000000</td>\n",
              "      <td>-1.000000</td>\n",
              "      <td>-1.000000</td>\n",
              "      <td>-1.000000</td>\n",
              "      <td>-1.000000</td>\n",
              "      <td>-1.000000</td>\n",
              "      <td>-1.000000</td>\n",
              "      <td>-1.000000</td>\n",
              "      <td>-1.000000</td>\n",
              "      <td>-1.000000</td>\n",
              "      <td>-1.000000</td>\n",
              "      <td>-1.000000</td>\n",
              "      <td>-1.000000</td>\n",
              "      <td>-1.000000</td>\n",
              "      <td>-1.000000</td>\n",
              "      <td>-1.000000</td>\n",
              "      <td>-1.000000</td>\n",
              "      <td>-1.000000</td>\n",
              "      <td>-1.000000</td>\n",
              "      <td>-1.000000</td>\n",
              "      <td>-1.000000</td>\n",
              "      <td>...</td>\n",
              "      <td>-1.000000</td>\n",
              "      <td>-1.000000</td>\n",
              "      <td>-1.000000</td>\n",
              "      <td>-1.000000</td>\n",
              "      <td>-1.000000</td>\n",
              "      <td>-1.000000</td>\n",
              "      <td>-1.000000</td>\n",
              "      <td>-1.000000</td>\n",
              "      <td>-1.000000</td>\n",
              "      <td>-1.000000</td>\n",
              "      <td>-1.000000</td>\n",
              "      <td>-1.000000</td>\n",
              "      <td>-1.000000</td>\n",
              "      <td>-1.000000</td>\n",
              "      <td>-1.000000</td>\n",
              "      <td>-1.000000</td>\n",
              "      <td>-1.000000</td>\n",
              "      <td>-1.000000</td>\n",
              "      <td>-1.000000</td>\n",
              "      <td>-1.000000</td>\n",
              "      <td>-1.000000</td>\n",
              "      <td>-1.000000</td>\n",
              "      <td>-1.000000</td>\n",
              "      <td>-1.000000</td>\n",
              "      <td>-1.000000</td>\n",
              "      <td>-1.000000</td>\n",
              "      <td>-1.000000</td>\n",
              "      <td>-1.000000</td>\n",
              "      <td>-1.000000</td>\n",
              "      <td>-1.000000</td>\n",
              "      <td>-1.000000</td>\n",
              "      <td>-1.000000</td>\n",
              "      <td>-1.000000</td>\n",
              "      <td>-1.000000</td>\n",
              "      <td>-1.000000</td>\n",
              "      <td>-1.000000</td>\n",
              "      <td>-1.000000</td>\n",
              "      <td>-1.000000</td>\n",
              "      <td>-1.000000</td>\n",
              "      <td>-1.000000</td>\n",
              "    </tr>\n",
              "    <tr>\n",
              "      <th>25%</th>\n",
              "      <td>0.262625</td>\n",
              "      <td>-0.024902</td>\n",
              "      <td>-0.121019</td>\n",
              "      <td>-0.992360</td>\n",
              "      <td>-0.976990</td>\n",
              "      <td>-0.979137</td>\n",
              "      <td>-0.993293</td>\n",
              "      <td>-0.977017</td>\n",
              "      <td>-0.979064</td>\n",
              "      <td>-0.935788</td>\n",
              "      <td>-0.562570</td>\n",
              "      <td>-0.812194</td>\n",
              "      <td>0.212530</td>\n",
              "      <td>0.113900</td>\n",
              "      <td>0.392717</td>\n",
              "      <td>-0.981706</td>\n",
              "      <td>-0.999929</td>\n",
              "      <td>-0.999771</td>\n",
              "      <td>-0.999414</td>\n",
              "      <td>-0.994185</td>\n",
              "      <td>-0.981327</td>\n",
              "      <td>-0.978488</td>\n",
              "      <td>-0.563834</td>\n",
              "      <td>-0.549611</td>\n",
              "      <td>-0.496825</td>\n",
              "      <td>-0.368555</td>\n",
              "      <td>-0.079017</td>\n",
              "      <td>-0.189949</td>\n",
              "      <td>-0.033860</td>\n",
              "      <td>-0.221971</td>\n",
              "      <td>-0.129050</td>\n",
              "      <td>0.028955</td>\n",
              "      <td>-0.165678</td>\n",
              "      <td>-0.206485</td>\n",
              "      <td>-0.118064</td>\n",
              "      <td>-0.110770</td>\n",
              "      <td>-0.239535</td>\n",
              "      <td>-0.361669</td>\n",
              "      <td>-0.408798</td>\n",
              "      <td>-0.140909</td>\n",
              "      <td>...</td>\n",
              "      <td>-0.999851</td>\n",
              "      <td>-0.988546</td>\n",
              "      <td>-1.000000</td>\n",
              "      <td>-0.968254</td>\n",
              "      <td>-0.002959</td>\n",
              "      <td>-0.601439</td>\n",
              "      <td>-0.878842</td>\n",
              "      <td>-0.982502</td>\n",
              "      <td>-0.978150</td>\n",
              "      <td>-0.978668</td>\n",
              "      <td>-0.979648</td>\n",
              "      <td>-0.993815</td>\n",
              "      <td>-0.982502</td>\n",
              "      <td>-0.999668</td>\n",
              "      <td>-0.985373</td>\n",
              "      <td>-0.665001</td>\n",
              "      <td>-1.000000</td>\n",
              "      <td>-0.234356</td>\n",
              "      <td>-0.499586</td>\n",
              "      <td>-0.807658</td>\n",
              "      <td>-0.992108</td>\n",
              "      <td>-0.992575</td>\n",
              "      <td>-0.991675</td>\n",
              "      <td>-0.993546</td>\n",
              "      <td>-0.993657</td>\n",
              "      <td>-0.992108</td>\n",
              "      <td>-0.999946</td>\n",
              "      <td>-0.991164</td>\n",
              "      <td>-0.923452</td>\n",
              "      <td>-0.968254</td>\n",
              "      <td>-0.019481</td>\n",
              "      <td>-0.536174</td>\n",
              "      <td>-0.841847</td>\n",
              "      <td>-0.124694</td>\n",
              "      <td>-0.287031</td>\n",
              "      <td>-0.493108</td>\n",
              "      <td>-0.389041</td>\n",
              "      <td>-0.817288</td>\n",
              "      <td>0.002151</td>\n",
              "      <td>-0.131880</td>\n",
              "    </tr>\n",
              "    <tr>\n",
              "      <th>50%</th>\n",
              "      <td>0.277174</td>\n",
              "      <td>-0.017162</td>\n",
              "      <td>-0.108596</td>\n",
              "      <td>-0.943030</td>\n",
              "      <td>-0.835032</td>\n",
              "      <td>-0.850773</td>\n",
              "      <td>-0.948244</td>\n",
              "      <td>-0.843670</td>\n",
              "      <td>-0.845068</td>\n",
              "      <td>-0.874825</td>\n",
              "      <td>-0.468206</td>\n",
              "      <td>-0.724503</td>\n",
              "      <td>0.784233</td>\n",
              "      <td>0.619774</td>\n",
              "      <td>0.772226</td>\n",
              "      <td>-0.876947</td>\n",
              "      <td>-0.997736</td>\n",
              "      <td>-0.992909</td>\n",
              "      <td>-0.984240</td>\n",
              "      <td>-0.955999</td>\n",
              "      <td>-0.884947</td>\n",
              "      <td>-0.853776</td>\n",
              "      <td>-0.057117</td>\n",
              "      <td>-0.101741</td>\n",
              "      <td>-0.136380</td>\n",
              "      <td>-0.136206</td>\n",
              "      <td>0.077529</td>\n",
              "      <td>-0.017644</td>\n",
              "      <td>0.126279</td>\n",
              "      <td>-0.045486</td>\n",
              "      <td>0.017654</td>\n",
              "      <td>0.160661</td>\n",
              "      <td>-0.018927</td>\n",
              "      <td>0.020698</td>\n",
              "      <td>0.009945</td>\n",
              "      <td>0.045355</td>\n",
              "      <td>-0.083301</td>\n",
              "      <td>-0.161167</td>\n",
              "      <td>-0.191758</td>\n",
              "      <td>0.135572</td>\n",
              "      <td>...</td>\n",
              "      <td>-0.996683</td>\n",
              "      <td>-0.942217</td>\n",
              "      <td>-0.682105</td>\n",
              "      <td>-0.904762</td>\n",
              "      <td>0.164180</td>\n",
              "      <td>-0.347522</td>\n",
              "      <td>-0.713718</td>\n",
              "      <td>-0.875620</td>\n",
              "      <td>-0.827490</td>\n",
              "      <td>-0.845626</td>\n",
              "      <td>-0.827234</td>\n",
              "      <td>-0.959151</td>\n",
              "      <td>-0.875620</td>\n",
              "      <td>-0.984283</td>\n",
              "      <td>-0.912569</td>\n",
              "      <td>-0.155022</td>\n",
              "      <td>-0.948718</td>\n",
              "      <td>-0.052095</td>\n",
              "      <td>-0.317706</td>\n",
              "      <td>-0.664937</td>\n",
              "      <td>-0.945344</td>\n",
              "      <td>-0.938212</td>\n",
              "      <td>-0.935101</td>\n",
              "      <td>-0.943402</td>\n",
              "      <td>-0.972651</td>\n",
              "      <td>-0.945344</td>\n",
              "      <td>-0.998043</td>\n",
              "      <td>-0.941888</td>\n",
              "      <td>-0.414503</td>\n",
              "      <td>-0.904762</td>\n",
              "      <td>0.136245</td>\n",
              "      <td>-0.335160</td>\n",
              "      <td>-0.703402</td>\n",
              "      <td>0.008146</td>\n",
              "      <td>0.007668</td>\n",
              "      <td>0.017192</td>\n",
              "      <td>-0.007186</td>\n",
              "      <td>-0.715631</td>\n",
              "      <td>0.182028</td>\n",
              "      <td>-0.003882</td>\n",
              "    </tr>\n",
              "    <tr>\n",
              "      <th>75%</th>\n",
              "      <td>0.288354</td>\n",
              "      <td>-0.010625</td>\n",
              "      <td>-0.097589</td>\n",
              "      <td>-0.250293</td>\n",
              "      <td>-0.057336</td>\n",
              "      <td>-0.278737</td>\n",
              "      <td>-0.302033</td>\n",
              "      <td>-0.087405</td>\n",
              "      <td>-0.288149</td>\n",
              "      <td>-0.014641</td>\n",
              "      <td>-0.067345</td>\n",
              "      <td>-0.345591</td>\n",
              "      <td>0.843793</td>\n",
              "      <td>0.685194</td>\n",
              "      <td>0.836742</td>\n",
              "      <td>-0.122829</td>\n",
              "      <td>-0.715745</td>\n",
              "      <td>-0.825149</td>\n",
              "      <td>-0.759473</td>\n",
              "      <td>-0.407902</td>\n",
              "      <td>-0.324653</td>\n",
              "      <td>-0.336393</td>\n",
              "      <td>0.329587</td>\n",
              "      <td>0.283141</td>\n",
              "      <td>0.167352</td>\n",
              "      <td>0.133245</td>\n",
              "      <td>0.286068</td>\n",
              "      <td>0.133317</td>\n",
              "      <td>0.277676</td>\n",
              "      <td>0.163282</td>\n",
              "      <td>0.180850</td>\n",
              "      <td>0.288163</td>\n",
              "      <td>0.131190</td>\n",
              "      <td>0.223530</td>\n",
              "      <td>0.179591</td>\n",
              "      <td>0.194290</td>\n",
              "      <td>0.074748</td>\n",
              "      <td>0.080148</td>\n",
              "      <td>0.002491</td>\n",
              "      <td>0.372200</td>\n",
              "      <td>...</td>\n",
              "      <td>-0.730491</td>\n",
              "      <td>-0.371697</td>\n",
              "      <td>0.346184</td>\n",
              "      <td>-0.873016</td>\n",
              "      <td>0.357307</td>\n",
              "      <td>-0.057690</td>\n",
              "      <td>-0.425813</td>\n",
              "      <td>-0.451400</td>\n",
              "      <td>-0.471267</td>\n",
              "      <td>-0.418532</td>\n",
              "      <td>-0.555974</td>\n",
              "      <td>-0.839875</td>\n",
              "      <td>-0.451400</td>\n",
              "      <td>-0.814917</td>\n",
              "      <td>-0.495328</td>\n",
              "      <td>0.513909</td>\n",
              "      <td>-0.846154</td>\n",
              "      <td>0.151575</td>\n",
              "      <td>-0.084974</td>\n",
              "      <td>-0.439280</td>\n",
              "      <td>-0.612242</td>\n",
              "      <td>-0.643738</td>\n",
              "      <td>-0.609846</td>\n",
              "      <td>-0.684886</td>\n",
              "      <td>-0.805758</td>\n",
              "      <td>-0.612242</td>\n",
              "      <td>-0.922682</td>\n",
              "      <td>-0.604730</td>\n",
              "      <td>0.337220</td>\n",
              "      <td>-0.873016</td>\n",
              "      <td>0.288960</td>\n",
              "      <td>-0.113167</td>\n",
              "      <td>-0.487981</td>\n",
              "      <td>0.149005</td>\n",
              "      <td>0.291490</td>\n",
              "      <td>0.536137</td>\n",
              "      <td>0.365996</td>\n",
              "      <td>-0.521503</td>\n",
              "      <td>0.250790</td>\n",
              "      <td>0.102970</td>\n",
              "    </tr>\n",
              "    <tr>\n",
              "      <th>max</th>\n",
              "      <td>1.000000</td>\n",
              "      <td>1.000000</td>\n",
              "      <td>1.000000</td>\n",
              "      <td>1.000000</td>\n",
              "      <td>1.000000</td>\n",
              "      <td>1.000000</td>\n",
              "      <td>1.000000</td>\n",
              "      <td>1.000000</td>\n",
              "      <td>1.000000</td>\n",
              "      <td>1.000000</td>\n",
              "      <td>1.000000</td>\n",
              "      <td>1.000000</td>\n",
              "      <td>1.000000</td>\n",
              "      <td>1.000000</td>\n",
              "      <td>1.000000</td>\n",
              "      <td>1.000000</td>\n",
              "      <td>1.000000</td>\n",
              "      <td>1.000000</td>\n",
              "      <td>1.000000</td>\n",
              "      <td>1.000000</td>\n",
              "      <td>1.000000</td>\n",
              "      <td>1.000000</td>\n",
              "      <td>1.000000</td>\n",
              "      <td>1.000000</td>\n",
              "      <td>1.000000</td>\n",
              "      <td>1.000000</td>\n",
              "      <td>1.000000</td>\n",
              "      <td>1.000000</td>\n",
              "      <td>1.000000</td>\n",
              "      <td>1.000000</td>\n",
              "      <td>1.000000</td>\n",
              "      <td>1.000000</td>\n",
              "      <td>1.000000</td>\n",
              "      <td>1.000000</td>\n",
              "      <td>1.000000</td>\n",
              "      <td>1.000000</td>\n",
              "      <td>1.000000</td>\n",
              "      <td>1.000000</td>\n",
              "      <td>1.000000</td>\n",
              "      <td>1.000000</td>\n",
              "      <td>...</td>\n",
              "      <td>1.000000</td>\n",
              "      <td>1.000000</td>\n",
              "      <td>1.000000</td>\n",
              "      <td>1.000000</td>\n",
              "      <td>1.000000</td>\n",
              "      <td>1.000000</td>\n",
              "      <td>1.000000</td>\n",
              "      <td>1.000000</td>\n",
              "      <td>1.000000</td>\n",
              "      <td>1.000000</td>\n",
              "      <td>1.000000</td>\n",
              "      <td>1.000000</td>\n",
              "      <td>1.000000</td>\n",
              "      <td>1.000000</td>\n",
              "      <td>1.000000</td>\n",
              "      <td>1.000000</td>\n",
              "      <td>1.000000</td>\n",
              "      <td>1.000000</td>\n",
              "      <td>1.000000</td>\n",
              "      <td>1.000000</td>\n",
              "      <td>1.000000</td>\n",
              "      <td>1.000000</td>\n",
              "      <td>1.000000</td>\n",
              "      <td>1.000000</td>\n",
              "      <td>1.000000</td>\n",
              "      <td>1.000000</td>\n",
              "      <td>1.000000</td>\n",
              "      <td>1.000000</td>\n",
              "      <td>1.000000</td>\n",
              "      <td>1.000000</td>\n",
              "      <td>1.000000</td>\n",
              "      <td>1.000000</td>\n",
              "      <td>1.000000</td>\n",
              "      <td>1.000000</td>\n",
              "      <td>1.000000</td>\n",
              "      <td>1.000000</td>\n",
              "      <td>1.000000</td>\n",
              "      <td>1.000000</td>\n",
              "      <td>1.000000</td>\n",
              "      <td>1.000000</td>\n",
              "    </tr>\n",
              "  </tbody>\n",
              "</table>\n",
              "<p>8 rows × 561 columns</p>\n",
              "</div>"
            ],
            "text/plain": [
              "       tBodyAcc-mean()-X  ...  angle(Z,gravityMean)\n",
              "count       10299.000000  ...          10299.000000\n",
              "mean            0.274347  ...             -0.054284\n",
              "std             0.067628  ...              0.268898\n",
              "min            -1.000000  ...             -1.000000\n",
              "25%             0.262625  ...             -0.131880\n",
              "50%             0.277174  ...             -0.003882\n",
              "75%             0.288354  ...              0.102970\n",
              "max             1.000000  ...              1.000000\n",
              "\n",
              "[8 rows x 561 columns]"
            ]
          },
          "metadata": {
            "tags": []
          },
          "execution_count": 8
        }
      ]
    },
    {
      "cell_type": "code",
      "metadata": {
        "id": "fGXwXVAhQMvf",
        "colab_type": "code",
        "outputId": "812a7210-3d4b-4f05-ddae-d0e4f0e010ad",
        "colab": {
          "base_uri": "https://localhost:8080/",
          "height": 460
        }
      },
      "source": [
        "sns.heatmap(df_atributos.corr(), square=True, cmap='YlGnBu')  # Revisamos rapidamente la matriz de correlacion"
      ],
      "execution_count": 9,
      "outputs": [
        {
          "output_type": "execute_result",
          "data": {
            "text/plain": [
              "<matplotlib.axes._subplots.AxesSubplot at 0x7ffbc48e6ba8>"
            ]
          },
          "metadata": {
            "tags": []
          },
          "execution_count": 9
        },
        {
          "output_type": "display_data",
          "data": {
            "image/png": "[encoded data removed]",
            "text/plain": [
              "<Figure size 432x288 with 2 Axes>"
            ]
          },
          "metadata": {
            "tags": []
          }
        }
      ]
    },
    {
      "cell_type": "markdown",
      "metadata": {
        "id": "NKJmDS4tX6YW",
        "colab_type": "text"
      },
      "source": [
        "Revisión de valores nulos"
      ]
    },
    {
      "cell_type": "code",
      "metadata": {
        "id": "bWthFsgrX6lV",
        "colab_type": "code",
        "outputId": "2a04bb18-1bb2-4704-ecbd-615f3b2c24ed",
        "colab": {
          "base_uri": "https://localhost:8080/",
          "height": 34
        }
      },
      "source": [
        "df_atributos.columns[df_atributos.isnull().any()] # Revisamos si hay atributos con valores nulos"
      ],
      "execution_count": 10,
      "outputs": [
        {
          "output_type": "execute_result",
          "data": {
            "text/plain": [
              "Index([], dtype='object')"
            ]
          },
          "metadata": {
            "tags": []
          },
          "execution_count": 10
        }
      ]
    },
    {
      "cell_type": "markdown",
      "metadata": {
        "id": "WIcCzPHfhw6W",
        "colab_type": "text"
      },
      "source": [
        "Selección de atributos mediante PCA"
      ]
    },
    {
      "cell_type": "code",
      "metadata": {
        "id": "4q0XjhH9Azf5",
        "colab_type": "code",
        "outputId": "4057d75d-7f2c-4f7a-f40d-550df9e5f3eb",
        "colab": {
          "base_uri": "https://localhost:8080/",
          "height": 34
        }
      },
      "source": [
        "pca = PCA(.949)\n",
        "pca.fit(df_atributos.values)\n",
        "atributos_pca = pca.transform(df_atributos.values)\n",
        "print(pca.n_components_)"
      ],
      "execution_count": 11,
      "outputs": [
        {
          "output_type": "stream",
          "text": [
            "68\n"
          ],
          "name": "stdout"
        }
      ]
    },
    {
      "cell_type": "code",
      "metadata": {
        "id": "y-ykx9i6wA-9",
        "colab_type": "code",
        "outputId": "747f4b9d-a5b5-4058-ea33-099c7c22b460",
        "colab": {
          "base_uri": "https://localhost:8080/",
          "height": 281
        }
      },
      "source": [
        "features = range(pca.n_components_)\n",
        "plt.bar(features, pca.explained_variance_)\n",
        "plt.xlabel('PCA')\n",
        "plt.ylabel('Varianza')\n",
        "plt.xticks(features)\n",
        "plt.show()"
      ],
      "execution_count": 12,
      "outputs": [
        {
          "output_type": "display_data",
          "data": {
            "image/png": "[encoded data removed]",
            "text/plain": [
              "<Figure size 432x288 with 1 Axes>"
            ]
          },
          "metadata": {
            "tags": []
          }
        }
      ]
    },
    {
      "cell_type": "markdown",
      "metadata": {
        "id": "W1fY922rs3Wq",
        "colab_type": "text"
      },
      "source": [
        "## Algoritmos de Clustering"
      ]
    },
    {
      "cell_type": "markdown",
      "metadata": {
        "id": "ctF6shPDs26G",
        "colab_type": "text"
      },
      "source": [
        "### k-means\n"
      ]
    },
    {
      "cell_type": "code",
      "metadata": {
        "id": "k1dfn-bgYbJV",
        "colab_type": "code",
        "colab": {}
      },
      "source": [
        "kmeans = KMeans(n_clusters=6, random_state=42).fit(atributos_pca)"
      ],
      "execution_count": 0,
      "outputs": []
    },
    {
      "cell_type": "code",
      "metadata": {
        "id": "c0Zreqtrr8ib",
        "colab_type": "code",
        "outputId": "970758d8-490a-49a2-8a04-eb7f8bf28374",
        "colab": {
          "base_uri": "https://localhost:8080/",
          "height": 580
        }
      },
      "source": [
        "# Obtener label de cluster para cada observación\n",
        "df_km_clusters = pd.DataFrame(kmeans.labels_, columns=[\"cluster\"])\n",
        "\n",
        "# Unir label original y label de cluster\n",
        "result_km = pd.concat([df_etiquetas, df_km_clusters], axis=1, sort=False)\n",
        "\n",
        "# Obtener resultado agrupado, cantidad de observaciones por clase en cada cluster\n",
        "agrupado = result_km.groupby(['cluster', 'Activity', 'Activity_code']).size().to_frame(name = 'count').reset_index()\n",
        "agrupado"
      ],
      "execution_count": 14,
      "outputs": [
        {
          "output_type": "execute_result",
          "data": {
            "text/html": [
              "<div>\n",
              "<style scoped>\n",
              "    .dataframe tbody tr th:only-of-type {\n",
              "        vertical-align: middle;\n",
              "    }\n",
              "\n",
              "    .dataframe tbody tr th {\n",
              "        vertical-align: top;\n",
              "    }\n",
              "\n",
              "    .dataframe thead th {\n",
              "        text-align: right;\n",
              "    }\n",
              "</style>\n",
              "<table border=\"1\" class=\"dataframe\">\n",
              "  <thead>\n",
              "    <tr style=\"text-align: right;\">\n",
              "      <th></th>\n",
              "      <th>cluster</th>\n",
              "      <th>Activity</th>\n",
              "      <th>Activity_code</th>\n",
              "      <th>count</th>\n",
              "    </tr>\n",
              "  </thead>\n",
              "  <tbody>\n",
              "    <tr>\n",
              "      <th>0</th>\n",
              "      <td>0</td>\n",
              "      <td>LAYING</td>\n",
              "      <td>0</td>\n",
              "      <td>12</td>\n",
              "    </tr>\n",
              "    <tr>\n",
              "      <th>1</th>\n",
              "      <td>0</td>\n",
              "      <td>SITTING</td>\n",
              "      <td>1</td>\n",
              "      <td>3</td>\n",
              "    </tr>\n",
              "    <tr>\n",
              "      <th>2</th>\n",
              "      <td>0</td>\n",
              "      <td>WALKING</td>\n",
              "      <td>3</td>\n",
              "      <td>700</td>\n",
              "    </tr>\n",
              "    <tr>\n",
              "      <th>3</th>\n",
              "      <td>0</td>\n",
              "      <td>WALKING_DOWNSTAIRS</td>\n",
              "      <td>4</td>\n",
              "      <td>187</td>\n",
              "    </tr>\n",
              "    <tr>\n",
              "      <th>4</th>\n",
              "      <td>0</td>\n",
              "      <td>WALKING_UPSTAIRS</td>\n",
              "      <td>5</td>\n",
              "      <td>1166</td>\n",
              "    </tr>\n",
              "    <tr>\n",
              "      <th>5</th>\n",
              "      <td>1</td>\n",
              "      <td>SITTING</td>\n",
              "      <td>1</td>\n",
              "      <td>1257</td>\n",
              "    </tr>\n",
              "    <tr>\n",
              "      <th>6</th>\n",
              "      <td>1</td>\n",
              "      <td>STANDING</td>\n",
              "      <td>2</td>\n",
              "      <td>1240</td>\n",
              "    </tr>\n",
              "    <tr>\n",
              "      <th>7</th>\n",
              "      <td>2</td>\n",
              "      <td>WALKING</td>\n",
              "      <td>3</td>\n",
              "      <td>153</td>\n",
              "    </tr>\n",
              "    <tr>\n",
              "      <th>8</th>\n",
              "      <td>2</td>\n",
              "      <td>WALKING_DOWNSTAIRS</td>\n",
              "      <td>4</td>\n",
              "      <td>456</td>\n",
              "    </tr>\n",
              "    <tr>\n",
              "      <th>9</th>\n",
              "      <td>2</td>\n",
              "      <td>WALKING_UPSTAIRS</td>\n",
              "      <td>5</td>\n",
              "      <td>82</td>\n",
              "    </tr>\n",
              "    <tr>\n",
              "      <th>10</th>\n",
              "      <td>3</td>\n",
              "      <td>LAYING</td>\n",
              "      <td>0</td>\n",
              "      <td>172</td>\n",
              "    </tr>\n",
              "    <tr>\n",
              "      <th>11</th>\n",
              "      <td>3</td>\n",
              "      <td>SITTING</td>\n",
              "      <td>1</td>\n",
              "      <td>468</td>\n",
              "    </tr>\n",
              "    <tr>\n",
              "      <th>12</th>\n",
              "      <td>3</td>\n",
              "      <td>STANDING</td>\n",
              "      <td>2</td>\n",
              "      <td>666</td>\n",
              "    </tr>\n",
              "    <tr>\n",
              "      <th>13</th>\n",
              "      <td>4</td>\n",
              "      <td>LAYING</td>\n",
              "      <td>0</td>\n",
              "      <td>1760</td>\n",
              "    </tr>\n",
              "    <tr>\n",
              "      <th>14</th>\n",
              "      <td>4</td>\n",
              "      <td>SITTING</td>\n",
              "      <td>1</td>\n",
              "      <td>49</td>\n",
              "    </tr>\n",
              "    <tr>\n",
              "      <th>15</th>\n",
              "      <td>5</td>\n",
              "      <td>WALKING</td>\n",
              "      <td>3</td>\n",
              "      <td>869</td>\n",
              "    </tr>\n",
              "    <tr>\n",
              "      <th>16</th>\n",
              "      <td>5</td>\n",
              "      <td>WALKING_DOWNSTAIRS</td>\n",
              "      <td>4</td>\n",
              "      <td>763</td>\n",
              "    </tr>\n",
              "    <tr>\n",
              "      <th>17</th>\n",
              "      <td>5</td>\n",
              "      <td>WALKING_UPSTAIRS</td>\n",
              "      <td>5</td>\n",
              "      <td>296</td>\n",
              "    </tr>\n",
              "  </tbody>\n",
              "</table>\n",
              "</div>"
            ],
            "text/plain": [
              "    cluster            Activity  Activity_code  count\n",
              "0         0              LAYING              0     12\n",
              "1         0             SITTING              1      3\n",
              "2         0             WALKING              3    700\n",
              "3         0  WALKING_DOWNSTAIRS              4    187\n",
              "4         0    WALKING_UPSTAIRS              5   1166\n",
              "5         1             SITTING              1   1257\n",
              "6         1            STANDING              2   1240\n",
              "7         2             WALKING              3    153\n",
              "8         2  WALKING_DOWNSTAIRS              4    456\n",
              "9         2    WALKING_UPSTAIRS              5     82\n",
              "10        3              LAYING              0    172\n",
              "11        3             SITTING              1    468\n",
              "12        3            STANDING              2    666\n",
              "13        4              LAYING              0   1760\n",
              "14        4             SITTING              1     49\n",
              "15        5             WALKING              3    869\n",
              "16        5  WALKING_DOWNSTAIRS              4    763\n",
              "17        5    WALKING_UPSTAIRS              5    296"
            ]
          },
          "metadata": {
            "tags": []
          },
          "execution_count": 14
        }
      ]
    },
    {
      "cell_type": "code",
      "metadata": {
        "id": "JhUiJJNswK9f",
        "colab_type": "code",
        "outputId": "dae4f2be-6b9c-4a94-8a51-a698ec71e648",
        "colab": {
          "base_uri": "https://localhost:8080/",
          "height": 225
        }
      },
      "source": [
        "# Calcular categoría de mayor frecuencia en el cluster\n",
        "idx = agrupado.groupby(['cluster'])['count'].transform(max) == agrupado['count']\n",
        "equivalencia_clusters = agrupado[idx]\n",
        "equivalencia_clusters"
      ],
      "execution_count": 15,
      "outputs": [
        {
          "output_type": "execute_result",
          "data": {
            "text/html": [
              "<div>\n",
              "<style scoped>\n",
              "    .dataframe tbody tr th:only-of-type {\n",
              "        vertical-align: middle;\n",
              "    }\n",
              "\n",
              "    .dataframe tbody tr th {\n",
              "        vertical-align: top;\n",
              "    }\n",
              "\n",
              "    .dataframe thead th {\n",
              "        text-align: right;\n",
              "    }\n",
              "</style>\n",
              "<table border=\"1\" class=\"dataframe\">\n",
              "  <thead>\n",
              "    <tr style=\"text-align: right;\">\n",
              "      <th></th>\n",
              "      <th>cluster</th>\n",
              "      <th>Activity</th>\n",
              "      <th>Activity_code</th>\n",
              "      <th>count</th>\n",
              "    </tr>\n",
              "  </thead>\n",
              "  <tbody>\n",
              "    <tr>\n",
              "      <th>4</th>\n",
              "      <td>0</td>\n",
              "      <td>WALKING_UPSTAIRS</td>\n",
              "      <td>5</td>\n",
              "      <td>1166</td>\n",
              "    </tr>\n",
              "    <tr>\n",
              "      <th>5</th>\n",
              "      <td>1</td>\n",
              "      <td>SITTING</td>\n",
              "      <td>1</td>\n",
              "      <td>1257</td>\n",
              "    </tr>\n",
              "    <tr>\n",
              "      <th>8</th>\n",
              "      <td>2</td>\n",
              "      <td>WALKING_DOWNSTAIRS</td>\n",
              "      <td>4</td>\n",
              "      <td>456</td>\n",
              "    </tr>\n",
              "    <tr>\n",
              "      <th>12</th>\n",
              "      <td>3</td>\n",
              "      <td>STANDING</td>\n",
              "      <td>2</td>\n",
              "      <td>666</td>\n",
              "    </tr>\n",
              "    <tr>\n",
              "      <th>13</th>\n",
              "      <td>4</td>\n",
              "      <td>LAYING</td>\n",
              "      <td>0</td>\n",
              "      <td>1760</td>\n",
              "    </tr>\n",
              "    <tr>\n",
              "      <th>15</th>\n",
              "      <td>5</td>\n",
              "      <td>WALKING</td>\n",
              "      <td>3</td>\n",
              "      <td>869</td>\n",
              "    </tr>\n",
              "  </tbody>\n",
              "</table>\n",
              "</div>"
            ],
            "text/plain": [
              "    cluster            Activity  Activity_code  count\n",
              "4         0    WALKING_UPSTAIRS              5   1166\n",
              "5         1             SITTING              1   1257\n",
              "8         2  WALKING_DOWNSTAIRS              4    456\n",
              "12        3            STANDING              2    666\n",
              "13        4              LAYING              0   1760\n",
              "15        5             WALKING              3    869"
            ]
          },
          "metadata": {
            "tags": []
          },
          "execution_count": 15
        }
      ]
    },
    {
      "cell_type": "code",
      "metadata": {
        "id": "OkqngdavwKh9",
        "colab_type": "code",
        "outputId": "1accbc53-151b-41d7-8f8c-a1b632c402de",
        "colab": {
          "base_uri": "https://localhost:8080/",
          "height": 34
        }
      },
      "source": [
        "# Evaluar la pureza de la agrupación\n",
        "pureza = agrupado[idx]['count'].sum()/result_km.shape[0]\n",
        "print('Pureza ', pureza)"
      ],
      "execution_count": 16,
      "outputs": [
        {
          "output_type": "stream",
          "text": [
            "Pureza  0.5994756772502184\n"
          ],
          "name": "stdout"
        }
      ]
    },
    {
      "cell_type": "markdown",
      "metadata": {
        "id": "Ap2lfxxRsPU0",
        "colab_type": "text"
      },
      "source": [
        "$\\displaystyle Pureza\\ =\\dfrac{1}{N} \\ \\sum ^{k}_{i=1} max_{j} |c_{i} \\cap t_{j} |$\n",
        "\n",
        "$\\displaystyle N:$observaciones\n",
        "\n",
        "$\\displaystyle k:$número de clusters\n",
        "\n",
        "$\\displaystyle c_{i} :$cluster i\n",
        "\n",
        "$\\displaystyle t_{j} :$categoria j\n",
        "\n",
        "https://nlp.stanford.edu/IR-book/html/htmledition/evaluation-of-clustering-1.html#fig:clustfg3"
      ]
    },
    {
      "cell_type": "code",
      "metadata": {
        "id": "AR_75ii29cV3",
        "colab_type": "code",
        "outputId": "289b93d0-c907-4cb6-a5f6-f1f62b49786b",
        "colab": {
          "base_uri": "https://localhost:8080/",
          "height": 34
        }
      },
      "source": [
        "# Evaluar el coeficiente de silueta\n",
        "preds = kmeans.fit_predict(atributos_pca)\n",
        "ss = silhouette_score(atributos_pca, preds)\n",
        "ss"
      ],
      "execution_count": 17,
      "outputs": [
        {
          "output_type": "execute_result",
          "data": {
            "text/plain": [
              "0.15057197049599833"
            ]
          },
          "metadata": {
            "tags": []
          },
          "execution_count": 17
        }
      ]
    },
    {
      "cell_type": "markdown",
      "metadata": {
        "id": "vVR1Ayl7sp3e",
        "colab_type": "text"
      },
      "source": [
        "### DBSCAN\n"
      ]
    },
    {
      "cell_type": "code",
      "metadata": {
        "id": "R7SJW0D9LMDe",
        "colab_type": "code",
        "outputId": "8d79a4b4-6607-4931-efd3-76f0dac7bd48",
        "colab": {
          "base_uri": "https://localhost:8080/",
          "height": 136
        }
      },
      "source": [
        "dbscan = DBSCAN(eps=5, min_samples=90).fit(atributos_pca)\n",
        "df_db_clusters = pd.DataFrame(dbscan.labels_, columns=[\"cluster\"])\n",
        "result_db = pd.concat([df_etiquetas, df_db_clusters], axis=1, sort=False)\n",
        "result_db.groupby(['cluster']).count()"
      ],
      "execution_count": 18,
      "outputs": [
        {
          "output_type": "execute_result",
          "data": {
            "text/html": [
              "<div>\n",
              "<style scoped>\n",
              "    .dataframe tbody tr th:only-of-type {\n",
              "        vertical-align: middle;\n",
              "    }\n",
              "\n",
              "    .dataframe tbody tr th {\n",
              "        vertical-align: top;\n",
              "    }\n",
              "\n",
              "    .dataframe thead th {\n",
              "        text-align: right;\n",
              "    }\n",
              "</style>\n",
              "<table border=\"1\" class=\"dataframe\">\n",
              "  <thead>\n",
              "    <tr style=\"text-align: right;\">\n",
              "      <th></th>\n",
              "      <th>Activity</th>\n",
              "      <th>Activity_code</th>\n",
              "    </tr>\n",
              "    <tr>\n",
              "      <th>cluster</th>\n",
              "      <th></th>\n",
              "      <th></th>\n",
              "    </tr>\n",
              "  </thead>\n",
              "  <tbody>\n",
              "    <tr>\n",
              "      <th>-1</th>\n",
              "      <td>156</td>\n",
              "      <td>156</td>\n",
              "    </tr>\n",
              "    <tr>\n",
              "      <th>0</th>\n",
              "      <td>10143</td>\n",
              "      <td>10143</td>\n",
              "    </tr>\n",
              "  </tbody>\n",
              "</table>\n",
              "</div>"
            ],
            "text/plain": [
              "         Activity  Activity_code\n",
              "cluster                         \n",
              "-1            156            156\n",
              " 0          10143          10143"
            ]
          },
          "metadata": {
            "tags": []
          },
          "execution_count": 18
        }
      ]
    },
    {
      "cell_type": "markdown",
      "metadata": {
        "id": "RiMr3z27v9fJ",
        "colab_type": "text"
      },
      "source": [
        "### Jerarquico Aglomerativo"
      ]
    },
    {
      "cell_type": "code",
      "metadata": {
        "id": "QrUe5qdWOiJz",
        "colab_type": "code",
        "outputId": "4b33a1e9-ea84-4550-b388-d6babfe18a01",
        "colab": {
          "base_uri": "https://localhost:8080/",
          "height": 521
        }
      },
      "source": [
        "jerarquico = AgglomerativeClustering(n_clusters=6, linkage='ward').fit_predict(atributos_pca)\n",
        "\n",
        "# Obtener label de cluster para cada observación\n",
        "df_jq_clusters = pd.DataFrame(jerarquico, columns=[\"cluster\"])\n",
        "\n",
        "# Unir label original y label de cluster\n",
        "result_jq = pd.concat([df_etiquetas, df_jq_clusters], axis=1, sort=False)\n",
        "\n",
        "# Obtener resultado agrupado, cantidad de observaciones por clase en cada cluster\n",
        "agrupado = result_jq.groupby(['cluster', 'Activity', 'Activity_code']).size().to_frame(name = 'count').reset_index()\n",
        "agrupado"
      ],
      "execution_count": 19,
      "outputs": [
        {
          "output_type": "execute_result",
          "data": {
            "text/html": [
              "<div>\n",
              "<style scoped>\n",
              "    .dataframe tbody tr th:only-of-type {\n",
              "        vertical-align: middle;\n",
              "    }\n",
              "\n",
              "    .dataframe tbody tr th {\n",
              "        vertical-align: top;\n",
              "    }\n",
              "\n",
              "    .dataframe thead th {\n",
              "        text-align: right;\n",
              "    }\n",
              "</style>\n",
              "<table border=\"1\" class=\"dataframe\">\n",
              "  <thead>\n",
              "    <tr style=\"text-align: right;\">\n",
              "      <th></th>\n",
              "      <th>cluster</th>\n",
              "      <th>Activity</th>\n",
              "      <th>Activity_code</th>\n",
              "      <th>count</th>\n",
              "    </tr>\n",
              "  </thead>\n",
              "  <tbody>\n",
              "    <tr>\n",
              "      <th>0</th>\n",
              "      <td>0</td>\n",
              "      <td>LAYING</td>\n",
              "      <td>0</td>\n",
              "      <td>1944</td>\n",
              "    </tr>\n",
              "    <tr>\n",
              "      <th>1</th>\n",
              "      <td>0</td>\n",
              "      <td>SITTING</td>\n",
              "      <td>1</td>\n",
              "      <td>65</td>\n",
              "    </tr>\n",
              "    <tr>\n",
              "      <th>2</th>\n",
              "      <td>0</td>\n",
              "      <td>STANDING</td>\n",
              "      <td>2</td>\n",
              "      <td>2</td>\n",
              "    </tr>\n",
              "    <tr>\n",
              "      <th>3</th>\n",
              "      <td>1</td>\n",
              "      <td>WALKING</td>\n",
              "      <td>3</td>\n",
              "      <td>1421</td>\n",
              "    </tr>\n",
              "    <tr>\n",
              "      <th>4</th>\n",
              "      <td>1</td>\n",
              "      <td>WALKING_DOWNSTAIRS</td>\n",
              "      <td>4</td>\n",
              "      <td>1021</td>\n",
              "    </tr>\n",
              "    <tr>\n",
              "      <th>5</th>\n",
              "      <td>1</td>\n",
              "      <td>WALKING_UPSTAIRS</td>\n",
              "      <td>5</td>\n",
              "      <td>497</td>\n",
              "    </tr>\n",
              "    <tr>\n",
              "      <th>6</th>\n",
              "      <td>2</td>\n",
              "      <td>SITTING</td>\n",
              "      <td>1</td>\n",
              "      <td>1021</td>\n",
              "    </tr>\n",
              "    <tr>\n",
              "      <th>7</th>\n",
              "      <td>2</td>\n",
              "      <td>STANDING</td>\n",
              "      <td>2</td>\n",
              "      <td>923</td>\n",
              "    </tr>\n",
              "    <tr>\n",
              "      <th>8</th>\n",
              "      <td>3</td>\n",
              "      <td>WALKING</td>\n",
              "      <td>3</td>\n",
              "      <td>250</td>\n",
              "    </tr>\n",
              "    <tr>\n",
              "      <th>9</th>\n",
              "      <td>3</td>\n",
              "      <td>WALKING_DOWNSTAIRS</td>\n",
              "      <td>4</td>\n",
              "      <td>138</td>\n",
              "    </tr>\n",
              "    <tr>\n",
              "      <th>10</th>\n",
              "      <td>3</td>\n",
              "      <td>WALKING_UPSTAIRS</td>\n",
              "      <td>5</td>\n",
              "      <td>1032</td>\n",
              "    </tr>\n",
              "    <tr>\n",
              "      <th>11</th>\n",
              "      <td>4</td>\n",
              "      <td>WALKING</td>\n",
              "      <td>3</td>\n",
              "      <td>51</td>\n",
              "    </tr>\n",
              "    <tr>\n",
              "      <th>12</th>\n",
              "      <td>4</td>\n",
              "      <td>WALKING_DOWNSTAIRS</td>\n",
              "      <td>4</td>\n",
              "      <td>247</td>\n",
              "    </tr>\n",
              "    <tr>\n",
              "      <th>13</th>\n",
              "      <td>4</td>\n",
              "      <td>WALKING_UPSTAIRS</td>\n",
              "      <td>5</td>\n",
              "      <td>15</td>\n",
              "    </tr>\n",
              "    <tr>\n",
              "      <th>14</th>\n",
              "      <td>5</td>\n",
              "      <td>SITTING</td>\n",
              "      <td>1</td>\n",
              "      <td>691</td>\n",
              "    </tr>\n",
              "    <tr>\n",
              "      <th>15</th>\n",
              "      <td>5</td>\n",
              "      <td>STANDING</td>\n",
              "      <td>2</td>\n",
              "      <td>981</td>\n",
              "    </tr>\n",
              "  </tbody>\n",
              "</table>\n",
              "</div>"
            ],
            "text/plain": [
              "    cluster            Activity  Activity_code  count\n",
              "0         0              LAYING              0   1944\n",
              "1         0             SITTING              1     65\n",
              "2         0            STANDING              2      2\n",
              "3         1             WALKING              3   1421\n",
              "4         1  WALKING_DOWNSTAIRS              4   1021\n",
              "5         1    WALKING_UPSTAIRS              5    497\n",
              "6         2             SITTING              1   1021\n",
              "7         2            STANDING              2    923\n",
              "8         3             WALKING              3    250\n",
              "9         3  WALKING_DOWNSTAIRS              4    138\n",
              "10        3    WALKING_UPSTAIRS              5   1032\n",
              "11        4             WALKING              3     51\n",
              "12        4  WALKING_DOWNSTAIRS              4    247\n",
              "13        4    WALKING_UPSTAIRS              5     15\n",
              "14        5             SITTING              1    691\n",
              "15        5            STANDING              2    981"
            ]
          },
          "metadata": {
            "tags": []
          },
          "execution_count": 19
        }
      ]
    },
    {
      "cell_type": "code",
      "metadata": {
        "id": "kk0MmJfeZ9rb",
        "colab_type": "code",
        "outputId": "41496857-64cf-4080-c8c4-db074e52e52d",
        "colab": {
          "base_uri": "https://localhost:8080/",
          "height": 225
        }
      },
      "source": [
        "# Calcular categoría de mayor frecuencia en el cluster\n",
        "idx = agrupado.groupby(['cluster'])['count'].transform(max) == agrupado['count']\n",
        "equivalencia_clusters = agrupado[idx]\n",
        "equivalencia_clusters"
      ],
      "execution_count": 20,
      "outputs": [
        {
          "output_type": "execute_result",
          "data": {
            "text/html": [
              "<div>\n",
              "<style scoped>\n",
              "    .dataframe tbody tr th:only-of-type {\n",
              "        vertical-align: middle;\n",
              "    }\n",
              "\n",
              "    .dataframe tbody tr th {\n",
              "        vertical-align: top;\n",
              "    }\n",
              "\n",
              "    .dataframe thead th {\n",
              "        text-align: right;\n",
              "    }\n",
              "</style>\n",
              "<table border=\"1\" class=\"dataframe\">\n",
              "  <thead>\n",
              "    <tr style=\"text-align: right;\">\n",
              "      <th></th>\n",
              "      <th>cluster</th>\n",
              "      <th>Activity</th>\n",
              "      <th>Activity_code</th>\n",
              "      <th>count</th>\n",
              "    </tr>\n",
              "  </thead>\n",
              "  <tbody>\n",
              "    <tr>\n",
              "      <th>0</th>\n",
              "      <td>0</td>\n",
              "      <td>LAYING</td>\n",
              "      <td>0</td>\n",
              "      <td>1944</td>\n",
              "    </tr>\n",
              "    <tr>\n",
              "      <th>3</th>\n",
              "      <td>1</td>\n",
              "      <td>WALKING</td>\n",
              "      <td>3</td>\n",
              "      <td>1421</td>\n",
              "    </tr>\n",
              "    <tr>\n",
              "      <th>6</th>\n",
              "      <td>2</td>\n",
              "      <td>SITTING</td>\n",
              "      <td>1</td>\n",
              "      <td>1021</td>\n",
              "    </tr>\n",
              "    <tr>\n",
              "      <th>10</th>\n",
              "      <td>3</td>\n",
              "      <td>WALKING_UPSTAIRS</td>\n",
              "      <td>5</td>\n",
              "      <td>1032</td>\n",
              "    </tr>\n",
              "    <tr>\n",
              "      <th>12</th>\n",
              "      <td>4</td>\n",
              "      <td>WALKING_DOWNSTAIRS</td>\n",
              "      <td>4</td>\n",
              "      <td>247</td>\n",
              "    </tr>\n",
              "    <tr>\n",
              "      <th>15</th>\n",
              "      <td>5</td>\n",
              "      <td>STANDING</td>\n",
              "      <td>2</td>\n",
              "      <td>981</td>\n",
              "    </tr>\n",
              "  </tbody>\n",
              "</table>\n",
              "</div>"
            ],
            "text/plain": [
              "    cluster            Activity  Activity_code  count\n",
              "0         0              LAYING              0   1944\n",
              "3         1             WALKING              3   1421\n",
              "6         2             SITTING              1   1021\n",
              "10        3    WALKING_UPSTAIRS              5   1032\n",
              "12        4  WALKING_DOWNSTAIRS              4    247\n",
              "15        5            STANDING              2    981"
            ]
          },
          "metadata": {
            "tags": []
          },
          "execution_count": 20
        }
      ]
    },
    {
      "cell_type": "code",
      "metadata": {
        "id": "QXE_31KzsSX8",
        "colab_type": "code",
        "outputId": "5785d3d7-9c73-433c-cba4-d72ad5043f25",
        "colab": {
          "base_uri": "https://localhost:8080/",
          "height": 34
        }
      },
      "source": [
        "# Evaluar la pureza de la agrupación\n",
        "pureza = agrupado[idx]['count'].sum()/result_jq.shape[0]\n",
        "print('Pureza ', pureza)"
      ],
      "execution_count": 21,
      "outputs": [
        {
          "output_type": "stream",
          "text": [
            "Pureza  0.6453053694533449\n"
          ],
          "name": "stdout"
        }
      ]
    },
    {
      "cell_type": "code",
      "metadata": {
        "id": "uh5tybCBEPcn",
        "colab_type": "code",
        "outputId": "04abdce1-15be-4b59-e06f-94006990d995",
        "colab": {
          "base_uri": "https://localhost:8080/",
          "height": 34
        }
      },
      "source": [
        "# Evaluar el coeficiente de silueta\n",
        "ss = silhouette_score(atributos_pca, df_jq_clusters.values)\n",
        "ss"
      ],
      "execution_count": 22,
      "outputs": [
        {
          "output_type": "execute_result",
          "data": {
            "text/plain": [
              "0.09940657109089857"
            ]
          },
          "metadata": {
            "tags": []
          },
          "execution_count": 22
        }
      ]
    },
    {
      "cell_type": "markdown",
      "metadata": {
        "id": "TAblVpW0LgM7",
        "colab_type": "text"
      },
      "source": [
        "### Visualización"
      ]
    },
    {
      "cell_type": "code",
      "metadata": {
        "id": "eOYlJCz-Lrdm",
        "colab_type": "code",
        "colab": {}
      },
      "source": [
        "# Relacionar cluster con clase principal\n",
        "df_result_labeled = result_jq.merge(equivalencia_clusters, left_on='cluster', right_on='cluster')\n",
        "df_result_labeled = df_result_labeled.rename(columns={'Activity_code_x': 'Actividad_real', 'Activity_code_y': 'Actividad_cluster'})"
      ],
      "execution_count": 0,
      "outputs": []
    },
    {
      "cell_type": "markdown",
      "metadata": {
        "id": "0reWAErPAgbA",
        "colab_type": "text"
      },
      "source": [
        "Visualización de los clusters obtenidos mediante algoritmo jerarquico algomerativo en las 2 componentes más importantes"
      ]
    },
    {
      "cell_type": "code",
      "metadata": {
        "id": "ghddQswbS6JO",
        "colab_type": "code",
        "outputId": "fee88bb2-fc81-43c3-c11f-143bee79f724",
        "colab": {
          "base_uri": "https://localhost:8080/",
          "height": 34
        }
      },
      "source": [
        "pca2 = PCA(n_components=2)\n",
        "principalComponents = pca2.fit_transform(atributos_pca)\n",
        "print('varianza explicada 2CP: ',sum(pca2.explained_variance_))"
      ],
      "execution_count": 24,
      "outputs": [
        {
          "output_type": "stream",
          "text": [
            "varianza explicada 2CP:  36.33463881267709\n"
          ],
          "name": "stdout"
        }
      ]
    },
    {
      "cell_type": "code",
      "metadata": {
        "id": "IhsPK0aWS56Q",
        "colab_type": "code",
        "colab": {}
      },
      "source": [
        "principalComponents = pca2.fit_transform(atributos_pca)\n",
        "principalDf = pd.DataFrame(data = principalComponents\n",
        "             , columns = ['CP1', 'CP2'])\n",
        "finalDf = pd.concat([principalDf, df_result_labeled[['Actividad_real', 'Actividad_cluster']]], axis = 1)"
      ],
      "execution_count": 0,
      "outputs": []
    },
    {
      "cell_type": "code",
      "metadata": {
        "id": "VEl7HIbeS5pr",
        "colab_type": "code",
        "outputId": "77bfee19-dd8c-48f7-a4a0-7f6b0712b829",
        "colab": {
          "base_uri": "https://localhost:8080/",
          "height": 312
        }
      },
      "source": [
        "fig = plt.figure()\n",
        "ax = fig.add_subplot(111)\n",
        "\n",
        "scatter = ax.scatter(finalDf['CP1'],finalDf['CP2'],\n",
        "                     c=finalDf['Actividad_cluster'],s=20)\n",
        "\n",
        "ax.set_title('Clustering aglomerativo')\n",
        "ax.set_xlabel('Componente principal 1')\n",
        "ax.set_ylabel('Componente principal 2')\n",
        "\n",
        "ax.legend()\n",
        "plt.show()"
      ],
      "execution_count": 26,
      "outputs": [
        {
          "output_type": "stream",
          "text": [
            "No handles with labels found to put in legend.\n"
          ],
          "name": "stderr"
        },
        {
          "output_type": "display_data",
          "data": {
            "image/png": "[encoded data removed]",
            "text/plain": [
              "<Figure size 432x288 with 1 Axes>"
            ]
          },
          "metadata": {
            "tags": []
          }
        }
      ]
    },
    {
      "cell_type": "markdown",
      "metadata": {
        "id": "vKOuxREaA6rg",
        "colab_type": "text"
      },
      "source": [
        "Visualización de los clusters obtenidos mediante algoritmo jerarquico algomerativo en las 3 componentes más importantes"
      ]
    },
    {
      "cell_type": "code",
      "metadata": {
        "id": "DR6dCXlSJpcl",
        "colab_type": "code",
        "outputId": "61ce88f5-90ce-45a0-d665-37fa9e8713cf",
        "colab": {
          "base_uri": "https://localhost:8080/",
          "height": 34
        }
      },
      "source": [
        "pca3 = PCA(n_components=3)\n",
        "principalComponents = pca3.fit_transform(df_atributos.values)\n",
        "print('varianza explicada 3 CP: ',sum(pca3.explained_variance_))"
      ],
      "execution_count": 27,
      "outputs": [
        {
          "output_type": "stream",
          "text": [
            "varianza explicada 3 CP:  38.51374727364328\n"
          ],
          "name": "stdout"
        }
      ]
    },
    {
      "cell_type": "code",
      "metadata": {
        "id": "YapmetHfKI09",
        "colab_type": "code",
        "colab": {}
      },
      "source": [
        "principalComponents = pca3.fit_transform(atributos_pca)\n",
        "principalDf = pd.DataFrame(data = principalComponents\n",
        "             , columns = ['CP1', 'CP2', 'CP3'])\n",
        "finalDf = pd.concat([principalDf, df_result_labeled[['Actividad_real', 'Actividad_cluster']]], axis = 1)\n"
      ],
      "execution_count": 0,
      "outputs": []
    },
    {
      "cell_type": "code",
      "metadata": {
        "id": "aazhwvCYNvFy",
        "colab_type": "code",
        "outputId": "271f2326-e47e-407a-dac4-ec7cbf46a65a",
        "colab": {
          "base_uri": "https://localhost:8080/",
          "height": 265
        }
      },
      "source": [
        "fig = plt.figure()\n",
        "ax = fig.add_subplot(111, projection='3d')\n",
        "\n",
        "scatter = ax.scatter(finalDf['CP1'],finalDf['CP2'],finalDf['CP3'],\n",
        "                     c=finalDf['Actividad_cluster'],s=20)\n",
        "\n",
        "\n",
        "ax.set_title('Clustering aglomerativo')\n",
        "ax.set_xlabel('Componente principal 1')\n",
        "ax.set_ylabel('Componente principal 2')\n",
        "ax.set_zlabel('Componente principal 3')\n",
        "\n",
        "ax.legend()\n",
        "plt.show()"
      ],
      "execution_count": 29,
      "outputs": [
        {
          "output_type": "stream",
          "text": [
            "No handles with labels found to put in legend.\n"
          ],
          "name": "stderr"
        },
        {
          "output_type": "display_data",
          "data": {
            "image/png": "[encoded data removed]",
            "text/plain": [
              "<Figure size 432x288 with 1 Axes>"
            ]
          },
          "metadata": {
            "tags": []
          }
        }
      ]
    },
    {
      "cell_type": "markdown",
      "metadata": {
        "id": "JLzkProvA_MX",
        "colab_type": "text"
      },
      "source": [
        "Validación del número de clusters (k) para el algoritmo k-means mediante el método 'elbow'"
      ]
    },
    {
      "cell_type": "code",
      "metadata": {
        "id": "_fKCC2h3NyYw",
        "colab_type": "code",
        "outputId": "1bc033a5-83a0-457a-f185-8dff07dfaa40",
        "colab": {
          "base_uri": "https://localhost:8080/",
          "height": 279
        }
      },
      "source": [
        "ks = range(1, 10)\n",
        "inertias = []\n",
        "\n",
        "for k in ks:\n",
        "    model = KMeans(n_clusters= k)\n",
        "    model.fit(df_atributos.values)\n",
        "    inertias.append(model.inertia_) \n",
        "\n",
        "plt.plot(ks, inertias, '-o')\n",
        "plt.xlabel('Número de clusters, k')\n",
        "plt.ylabel('inertia')\n",
        "plt.xticks(ks)\n",
        "plt.show()"
      ],
      "execution_count": 30,
      "outputs": [
        {
          "output_type": "display_data",
          "data": {
            "image/png": "[encoded data removed]",
            "text/plain": [
              "<Figure size 432x288 with 1 Axes>"
            ]
          },
          "metadata": {
            "tags": []
          }
        }
      ]
    },
    {
      "cell_type": "markdown",
      "metadata": {
        "id": "RkKeGglBBkDR",
        "colab_type": "text"
      },
      "source": [
        "Validación del número de clusters (k) para el algoritmo jerarquico aglomerativo mediante el uso de dendogramas"
      ]
    },
    {
      "cell_type": "code",
      "metadata": {
        "id": "3zYWL5KCVKHT",
        "colab_type": "code",
        "colab": {}
      },
      "source": [
        "model = linkage(atributos_pca, method='complete')  # metodo complete\n",
        "model2 = ward(atributos_pca)"
      ],
      "execution_count": 0,
      "outputs": []
    },
    {
      "cell_type": "markdown",
      "metadata": {
        "id": "1WJcoixCYZYI",
        "colab_type": "text"
      },
      "source": [
        "Dendograma clustering aglomerativo enlace completo"
      ]
    },
    {
      "cell_type": "code",
      "metadata": {
        "id": "Gmp_BV0lVypA",
        "colab_type": "code",
        "outputId": "8c7d560d-6c6e-45ca-b71f-116c1ba34229",
        "colab": {
          "base_uri": "https://localhost:8080/",
          "height": 264
        }
      },
      "source": [
        "dendrogram(model,\n",
        "           labels=None,\n",
        "           leaf_rotation=150,\n",
        "           leaf_font_size=3,\n",
        ")\n",
        "plt.show()"
      ],
      "execution_count": 32,
      "outputs": [
        {
          "output_type": "display_data",
          "data": {
            "image/png": "[encoded data removed]",
            "text/plain": [
              "<Figure size 432x288 with 1 Axes>"
            ]
          },
          "metadata": {
            "tags": []
          }
        }
      ]
    },
    {
      "cell_type": "markdown",
      "metadata": {
        "id": "7AXcDTteY7Aj",
        "colab_type": "text"
      },
      "source": [
        "Dendograma clustering aglomerativo enlace ward"
      ]
    },
    {
      "cell_type": "code",
      "metadata": {
        "id": "hTVtGUOrW0vb",
        "colab_type": "code",
        "outputId": "eec68136-c80b-42c7-cb34-211e9e921413",
        "colab": {
          "base_uri": "https://localhost:8080/",
          "height": 264
        }
      },
      "source": [
        "dendrogram(model2,\n",
        "           labels=None,\n",
        "           leaf_rotation=150,\n",
        "           leaf_font_size=3,\n",
        ")\n",
        "plt.show()"
      ],
      "execution_count": 33,
      "outputs": [
        {
          "output_type": "display_data",
          "data": {
            "image/png": "[encoded data removed]",
            "text/plain": [
              "<Figure size 432x288 with 1 Axes>"
            ]
          },
          "metadata": {
            "tags": []
          }
        }
      ]
    },
    {
      "cell_type": "markdown",
      "metadata": {
        "id": "LGrI-EhWDpIc",
        "colab_type": "text"
      },
      "source": [
        "## Etapa 2: clustering de las actividades estáticas"
      ]
    },
    {
      "cell_type": "markdown",
      "metadata": {
        "id": "QmkKzjfbH_Wa",
        "colab_type": "text"
      },
      "source": [
        "Filtrado del dataset para escoger las observaciones de actividades estáticas (sentado, acostado, de pie)"
      ]
    },
    {
      "cell_type": "code",
      "metadata": {
        "id": "Nl6Wn8e5ETqc",
        "colab_type": "code",
        "outputId": "db4be12d-06ad-4c41-93dd-13b9da0be93a",
        "colab": {
          "base_uri": "https://localhost:8080/",
          "height": 136
        }
      },
      "source": [
        "# Seleccion de las actividades estaticas\n",
        "df_estaticas = df_unido.loc[df_unido['Activity'].isin(['STANDING','SITTING','LAYING'])]\n",
        "\n",
        "# Remoción de las columnas Activity y subject\n",
        "df_etiquetas_est = df_estaticas['Activity'].to_frame(name = 'Activity')\n",
        "df_atributos_est = df_estaticas.drop(['subject', 'Activity'], 1)\n",
        "\n",
        "# Creación de códigos numéricos para las clases de 'Activity'\n",
        "lb_activity = LabelEncoder()\n",
        "df_etiquetas_est[\"Activity_code\"] = lb_activity.fit_transform(df_etiquetas_est[\"Activity\"])\n",
        "codigos_est = df_etiquetas_est.groupby([\"Activity\", \"Activity_code\"]).size().reset_index(name='count')\n",
        "codigos_est"
      ],
      "execution_count": 34,
      "outputs": [
        {
          "output_type": "execute_result",
          "data": {
            "text/html": [
              "<div>\n",
              "<style scoped>\n",
              "    .dataframe tbody tr th:only-of-type {\n",
              "        vertical-align: middle;\n",
              "    }\n",
              "\n",
              "    .dataframe tbody tr th {\n",
              "        vertical-align: top;\n",
              "    }\n",
              "\n",
              "    .dataframe thead th {\n",
              "        text-align: right;\n",
              "    }\n",
              "</style>\n",
              "<table border=\"1\" class=\"dataframe\">\n",
              "  <thead>\n",
              "    <tr style=\"text-align: right;\">\n",
              "      <th></th>\n",
              "      <th>Activity</th>\n",
              "      <th>Activity_code</th>\n",
              "      <th>count</th>\n",
              "    </tr>\n",
              "  </thead>\n",
              "  <tbody>\n",
              "    <tr>\n",
              "      <th>0</th>\n",
              "      <td>LAYING</td>\n",
              "      <td>0</td>\n",
              "      <td>1944</td>\n",
              "    </tr>\n",
              "    <tr>\n",
              "      <th>1</th>\n",
              "      <td>SITTING</td>\n",
              "      <td>1</td>\n",
              "      <td>1777</td>\n",
              "    </tr>\n",
              "    <tr>\n",
              "      <th>2</th>\n",
              "      <td>STANDING</td>\n",
              "      <td>2</td>\n",
              "      <td>1906</td>\n",
              "    </tr>\n",
              "  </tbody>\n",
              "</table>\n",
              "</div>"
            ],
            "text/plain": [
              "   Activity  Activity_code  count\n",
              "0    LAYING              0   1944\n",
              "1   SITTING              1   1777\n",
              "2  STANDING              2   1906"
            ]
          },
          "metadata": {
            "tags": []
          },
          "execution_count": 34
        }
      ]
    },
    {
      "cell_type": "markdown",
      "metadata": {
        "id": "gouZTEnJIJ0o",
        "colab_type": "text"
      },
      "source": [
        "Reducción de dimensionalidad mediante PCA"
      ]
    },
    {
      "cell_type": "code",
      "metadata": {
        "id": "PvBjgmKIEx9e",
        "colab_type": "code",
        "outputId": "0a046238-7f14-4c4f-8e3f-ff10c1bbf6c2",
        "colab": {
          "base_uri": "https://localhost:8080/",
          "height": 34
        }
      },
      "source": [
        "pca = PCA(.95)\n",
        "pca.fit(df_atributos_est.values)\n",
        "atributos_pca_est = pca.transform(df_atributos_est.values)\n",
        "print(pca.n_components_)"
      ],
      "execution_count": 35,
      "outputs": [
        {
          "output_type": "stream",
          "text": [
            "77\n"
          ],
          "name": "stdout"
        }
      ]
    },
    {
      "cell_type": "markdown",
      "metadata": {
        "id": "0iwTXvizISub",
        "colab_type": "text"
      },
      "source": [
        "Agrupamiento mediante clustering jerarquico aglomerativo con el enlace tipo ward"
      ]
    },
    {
      "cell_type": "code",
      "metadata": {
        "id": "9n3YsW_GISKM",
        "colab_type": "code",
        "outputId": "4e26c887-4765-45f7-921b-26bc5905eb6c",
        "colab": {
          "base_uri": "https://localhost:8080/",
          "height": 314
        }
      },
      "source": [
        "jerarquico2 = AgglomerativeClustering(n_clusters=3, linkage='ward').fit_predict(atributos_pca_est)\n",
        "\n",
        "# Obtener label de cluster para cada observación\n",
        "df_jq_clusters = pd.DataFrame(jerarquico2, columns=[\"cluster\"])\n",
        "\n",
        "# Unir label original y label de cluster\n",
        "result_jq = pd.concat([df_etiquetas_est, df_jq_clusters], axis=1, sort=False)\n",
        "\n",
        "# Obtener resultado agrupado, cantidad de observaciones por clase en cada cluster\n",
        "agrupado = result_jq.groupby(['cluster', 'Activity', 'Activity_code']).size().to_frame(name = 'count').reset_index()\n",
        "agrupado"
      ],
      "execution_count": 36,
      "outputs": [
        {
          "output_type": "execute_result",
          "data": {
            "text/html": [
              "<div>\n",
              "<style scoped>\n",
              "    .dataframe tbody tr th:only-of-type {\n",
              "        vertical-align: middle;\n",
              "    }\n",
              "\n",
              "    .dataframe tbody tr th {\n",
              "        vertical-align: top;\n",
              "    }\n",
              "\n",
              "    .dataframe thead th {\n",
              "        text-align: right;\n",
              "    }\n",
              "</style>\n",
              "<table border=\"1\" class=\"dataframe\">\n",
              "  <thead>\n",
              "    <tr style=\"text-align: right;\">\n",
              "      <th></th>\n",
              "      <th>cluster</th>\n",
              "      <th>Activity</th>\n",
              "      <th>Activity_code</th>\n",
              "      <th>count</th>\n",
              "    </tr>\n",
              "  </thead>\n",
              "  <tbody>\n",
              "    <tr>\n",
              "      <th>0</th>\n",
              "      <td>0.0</td>\n",
              "      <td>LAYING</td>\n",
              "      <td>0.0</td>\n",
              "      <td>798</td>\n",
              "    </tr>\n",
              "    <tr>\n",
              "      <th>1</th>\n",
              "      <td>0.0</td>\n",
              "      <td>SITTING</td>\n",
              "      <td>1.0</td>\n",
              "      <td>556</td>\n",
              "    </tr>\n",
              "    <tr>\n",
              "      <th>2</th>\n",
              "      <td>0.0</td>\n",
              "      <td>STANDING</td>\n",
              "      <td>2.0</td>\n",
              "      <td>655</td>\n",
              "    </tr>\n",
              "    <tr>\n",
              "      <th>3</th>\n",
              "      <td>1.0</td>\n",
              "      <td>LAYING</td>\n",
              "      <td>0.0</td>\n",
              "      <td>187</td>\n",
              "    </tr>\n",
              "    <tr>\n",
              "      <th>4</th>\n",
              "      <td>1.0</td>\n",
              "      <td>SITTING</td>\n",
              "      <td>1.0</td>\n",
              "      <td>376</td>\n",
              "    </tr>\n",
              "    <tr>\n",
              "      <th>5</th>\n",
              "      <td>1.0</td>\n",
              "      <td>STANDING</td>\n",
              "      <td>2.0</td>\n",
              "      <td>306</td>\n",
              "    </tr>\n",
              "    <tr>\n",
              "      <th>6</th>\n",
              "      <td>2.0</td>\n",
              "      <td>LAYING</td>\n",
              "      <td>0.0</td>\n",
              "      <td>87</td>\n",
              "    </tr>\n",
              "    <tr>\n",
              "      <th>7</th>\n",
              "      <td>2.0</td>\n",
              "      <td>SITTING</td>\n",
              "      <td>1.0</td>\n",
              "      <td>56</td>\n",
              "    </tr>\n",
              "    <tr>\n",
              "      <th>8</th>\n",
              "      <td>2.0</td>\n",
              "      <td>STANDING</td>\n",
              "      <td>2.0</td>\n",
              "      <td>94</td>\n",
              "    </tr>\n",
              "  </tbody>\n",
              "</table>\n",
              "</div>"
            ],
            "text/plain": [
              "   cluster  Activity  Activity_code  count\n",
              "0      0.0    LAYING            0.0    798\n",
              "1      0.0   SITTING            1.0    556\n",
              "2      0.0  STANDING            2.0    655\n",
              "3      1.0    LAYING            0.0    187\n",
              "4      1.0   SITTING            1.0    376\n",
              "5      1.0  STANDING            2.0    306\n",
              "6      2.0    LAYING            0.0     87\n",
              "7      2.0   SITTING            1.0     56\n",
              "8      2.0  STANDING            2.0     94"
            ]
          },
          "metadata": {
            "tags": []
          },
          "execution_count": 36
        }
      ]
    },
    {
      "cell_type": "code",
      "metadata": {
        "id": "MCHBJstGJwXJ",
        "colab_type": "code",
        "outputId": "8da61184-ba70-4d38-eab5-e1af1ff38d10",
        "colab": {
          "base_uri": "https://localhost:8080/",
          "height": 136
        }
      },
      "source": [
        "# Calcular categoría de mayor frecuencia en el cluster\n",
        "idx = agrupado.groupby(['cluster'])['count'].transform(max) == agrupado['count']\n",
        "equivalencia_clusters = agrupado[idx]\n",
        "equivalencia_clusters"
      ],
      "execution_count": 37,
      "outputs": [
        {
          "output_type": "execute_result",
          "data": {
            "text/html": [
              "<div>\n",
              "<style scoped>\n",
              "    .dataframe tbody tr th:only-of-type {\n",
              "        vertical-align: middle;\n",
              "    }\n",
              "\n",
              "    .dataframe tbody tr th {\n",
              "        vertical-align: top;\n",
              "    }\n",
              "\n",
              "    .dataframe thead th {\n",
              "        text-align: right;\n",
              "    }\n",
              "</style>\n",
              "<table border=\"1\" class=\"dataframe\">\n",
              "  <thead>\n",
              "    <tr style=\"text-align: right;\">\n",
              "      <th></th>\n",
              "      <th>cluster</th>\n",
              "      <th>Activity</th>\n",
              "      <th>Activity_code</th>\n",
              "      <th>count</th>\n",
              "    </tr>\n",
              "  </thead>\n",
              "  <tbody>\n",
              "    <tr>\n",
              "      <th>0</th>\n",
              "      <td>0.0</td>\n",
              "      <td>LAYING</td>\n",
              "      <td>0.0</td>\n",
              "      <td>798</td>\n",
              "    </tr>\n",
              "    <tr>\n",
              "      <th>4</th>\n",
              "      <td>1.0</td>\n",
              "      <td>SITTING</td>\n",
              "      <td>1.0</td>\n",
              "      <td>376</td>\n",
              "    </tr>\n",
              "    <tr>\n",
              "      <th>8</th>\n",
              "      <td>2.0</td>\n",
              "      <td>STANDING</td>\n",
              "      <td>2.0</td>\n",
              "      <td>94</td>\n",
              "    </tr>\n",
              "  </tbody>\n",
              "</table>\n",
              "</div>"
            ],
            "text/plain": [
              "   cluster  Activity  Activity_code  count\n",
              "0      0.0    LAYING            0.0    798\n",
              "4      1.0   SITTING            1.0    376\n",
              "8      2.0  STANDING            2.0     94"
            ]
          },
          "metadata": {
            "tags": []
          },
          "execution_count": 37
        }
      ]
    },
    {
      "cell_type": "code",
      "metadata": {
        "id": "bdGfUro9KXQN",
        "colab_type": "code",
        "outputId": "95334f0f-315b-4d67-824d-92da85d9879f",
        "colab": {
          "base_uri": "https://localhost:8080/",
          "height": 34
        }
      },
      "source": [
        "# Evaluar la pureza de la agrupación\n",
        "pureza = agrupado[idx]['count'].sum()/result_jq.shape[0]\n",
        "print('Pureza ', pureza)"
      ],
      "execution_count": 38,
      "outputs": [
        {
          "output_type": "stream",
          "text": [
            "Pureza  0.15579309497481264\n"
          ],
          "name": "stdout"
        }
      ]
    }
  ]
}
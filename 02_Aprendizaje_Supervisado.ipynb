{
  "nbformat": 4,
  "nbformat_minor": 0,
  "metadata": {
    "colab": {
      "name": "Aprendizaje_Supervisado.ipynb",
      "provenance": [],
      "collapsed_sections": [],
      "include_colab_link": true
    },
    "kernelspec": {
      "name": "python3",
      "display_name": "Python 3"
    }
  },
  "cells": [
    {
      "cell_type": "markdown",
      "metadata": {
        "id": "view-in-github",
        "colab_type": "text"
      },
      "source": [
        "<a href=\"https://colab.research.google.com/github/santiagoec/CM0891-Aprendizaje-Automatico/blob/master/02_Aprendizaje_Supervisado.ipynb\" target=\"_parent\"><img src=\"https://colab.research.google.com/assets/colab-badge.svg\" alt=\"Open In Colab\"/></a>"
      ]
    },
    {
      "cell_type": "markdown",
      "metadata": {
        "id": "YdCEaQ-vPFA-",
        "colab_type": "text"
      },
      "source": [
        "# Aprendizaje Supervisado en Python\n",
        "\n",
        "Este libro contiene un estudio de **Aprendizaje Supervisado** utilizando Python. Esto hace parte del curso de Aprendizaje Automático de la Maestría de Ciencia de Datos.\n",
        "\n",
        "Los integrantes de este trabajo:\n",
        "\n",
        "* Santiago Echeverri Calderon\n",
        "* Edgar Leandro Jimenez Jaimes"
      ]
    },
    {
      "cell_type": "markdown",
      "metadata": {
        "id": "rvdHnuMgDEEK",
        "colab_type": "text"
      },
      "source": [
        "Vamos a instalar las librerias necesarias para la ejecución de este libro"
      ]
    },
    {
      "cell_type": "code",
      "metadata": {
        "id": "ShZqFPQ8O5fA",
        "colab_type": "code",
        "colab": {}
      },
      "source": [
        "#!pip install featuretools\n",
        "#! pip install category_encoders"
      ],
      "execution_count": 0,
      "outputs": []
    },
    {
      "cell_type": "markdown",
      "metadata": {
        "id": "I6eiy7x2PgpO",
        "colab_type": "text"
      },
      "source": [
        "Realizamos la importación de las librerias a utilizar"
      ]
    },
    {
      "cell_type": "code",
      "metadata": {
        "id": "YHzYhJtSP5jW",
        "colab_type": "code",
        "colab": {}
      },
      "source": [
        "import pandas as pd\n",
        "import numpy as np\n",
        "\n",
        "from sklearn.metrics import classification_report, confusion_matrix\n",
        "\n",
        "from sklearn.model_selection import train_test_split,cross_validate\n",
        "#from sklearn.svm import LinearSVC\n",
        "from sklearn.feature_selection import SelectFromModel\n",
        "from sklearn.ensemble import RandomForestClassifier\n",
        "from sklearn.linear_model import LogisticRegression\n",
        "from sklearn.preprocessing import StandardScaler\n",
        "from sklearn.metrics import roc_auc_score\n",
        "from sklearn.model_selection import cross_val_score\n",
        "from collections import Counter\n",
        "\n",
        "from sklearn.preprocessing import LabelEncoder\n",
        "\n",
        "from sklearn.metrics import accuracy_score\n",
        "from sklearn.ensemble import RandomForestClassifier\n",
        "from sklearn.model_selection import RandomizedSearchCV\n",
        "import seaborn as sns\n",
        "import matplotlib.pyplot as plt\n",
        "from sklearn.model_selection import GridSearchCV \n",
        "from sklearn.metrics import plot_roc_curve\n",
        "from sklearn.svm import SVC\n",
        "\n",
        "import warnings\n",
        "warnings.filterwarnings('ignore')\n"
      ],
      "execution_count": 0,
      "outputs": []
    },
    {
      "cell_type": "markdown",
      "metadata": {
        "id": "PVO6gUARDMJX",
        "colab_type": "text"
      },
      "source": [
        "Realizamos la carga del data set a utilizar:\n",
        "\n",
        "El conjunto de datos a utilizar es mushrooms, el cual es incluye descripciones de muestras hipotéticas correspondientes a 23 especies de hongos branquiales de la familia Agaricus y Lepiota (pp. 500-525). Cada especie se identifica como definitivamente comestible, definitivamente venenosa o de comestibilidad desconocida y no se recomienda. Esta última clase se combinó con la venenosa. La Guía establece claramente que no existe una regla simple para determinar la comestibilidad de un hongo; ninguna regla como `` folletos tres, déjalo ser '' para el roble venenoso y la hiedra.\n",
        "\n",
        "Fuente: https://archive.ics.uci.edu/ml/datasets/Mushroom"
      ]
    },
    {
      "cell_type": "code",
      "metadata": {
        "id": "hssvQaVqPap4",
        "colab_type": "code",
        "outputId": "0558023b-adb8-4fb8-faae-40d07339a5cb",
        "colab": {
          "base_uri": "https://localhost:8080/",
          "height": 121
        }
      },
      "source": [
        "from google.colab import drive\n",
        "drive.mount('/content/drive')"
      ],
      "execution_count": 3,
      "outputs": [
        {
          "output_type": "stream",
          "text": [
            "Go to this URL in a browser: https://accounts.google.com/o/oauth2/auth?client_id=947318989803-6bn6qk8qdgf4n4g3pfee6491hc0brc4i.apps.googleusercontent.com&redirect_uri=urn%3aietf%3awg%3aoauth%3a2.0%3aoob&response_type=code&scope=email%20https%3a%2f%2fwww.googleapis.com%2fauth%2fdocs.test%20https%3a%2f%2fwww.googleapis.com%2fauth%2fdrive%20https%3a%2f%2fwww.googleapis.com%2fauth%2fdrive.photos.readonly%20https%3a%2f%2fwww.googleapis.com%2fauth%2fpeopleapi.readonly\n",
            "\n",
            "Enter your authorization code:\n",
            "··········\n",
            "Mounted at /content/drive\n"
          ],
          "name": "stdout"
        }
      ]
    },
    {
      "cell_type": "code",
      "metadata": {
        "id": "lZk1srHoDTg4",
        "colab_type": "code",
        "colab": {}
      },
      "source": [
        "df = pd.read_csv('/content/drive/My Drive/CM0891-Aprendizaje-Automatico/Datasets/mushrooms.csv')"
      ],
      "execution_count": 0,
      "outputs": []
    },
    {
      "cell_type": "markdown",
      "metadata": {
        "id": "K8cw2NiAlvrF",
        "colab_type": "text"
      },
      "source": [
        "# Exploracion inicial del conjunto de datos"
      ]
    },
    {
      "cell_type": "markdown",
      "metadata": {
        "id": "iaAiKnbxQTTO",
        "colab_type": "text"
      },
      "source": [
        "Realizamos una pequeña revision de los datos que acabamos de importar"
      ]
    },
    {
      "cell_type": "code",
      "metadata": {
        "id": "_EBDmx39eMh_",
        "colab_type": "code",
        "outputId": "fbad7433-d00d-46dc-9582-e2f2b64f09b3",
        "colab": {
          "base_uri": "https://localhost:8080/",
          "height": 266
        }
      },
      "source": [
        "df.head(5)                # Imprimimos los primeros 5 registros del dataset"
      ],
      "execution_count": 5,
      "outputs": [
        {
          "output_type": "execute_result",
          "data": {
            "text/html": [
              "<div>\n",
              "<style scoped>\n",
              "    .dataframe tbody tr th:only-of-type {\n",
              "        vertical-align: middle;\n",
              "    }\n",
              "\n",
              "    .dataframe tbody tr th {\n",
              "        vertical-align: top;\n",
              "    }\n",
              "\n",
              "    .dataframe thead th {\n",
              "        text-align: right;\n",
              "    }\n",
              "</style>\n",
              "<table border=\"1\" class=\"dataframe\">\n",
              "  <thead>\n",
              "    <tr style=\"text-align: right;\">\n",
              "      <th></th>\n",
              "      <th>class</th>\n",
              "      <th>cap-shape</th>\n",
              "      <th>cap-surface</th>\n",
              "      <th>cap-color</th>\n",
              "      <th>bruises</th>\n",
              "      <th>odor</th>\n",
              "      <th>gill-attachment</th>\n",
              "      <th>gill-spacing</th>\n",
              "      <th>gill-size</th>\n",
              "      <th>gill-color</th>\n",
              "      <th>stalk-shape</th>\n",
              "      <th>stalk-root</th>\n",
              "      <th>stalk-surface-above-ring</th>\n",
              "      <th>stalk-surface-below-ring</th>\n",
              "      <th>stalk-color-above-ring</th>\n",
              "      <th>stalk-color-below-ring</th>\n",
              "      <th>veil-type</th>\n",
              "      <th>veil-color</th>\n",
              "      <th>ring-number</th>\n",
              "      <th>ring-type</th>\n",
              "      <th>spore-print-color</th>\n",
              "      <th>population</th>\n",
              "      <th>habitat</th>\n",
              "    </tr>\n",
              "  </thead>\n",
              "  <tbody>\n",
              "    <tr>\n",
              "      <th>0</th>\n",
              "      <td>p</td>\n",
              "      <td>x</td>\n",
              "      <td>s</td>\n",
              "      <td>n</td>\n",
              "      <td>t</td>\n",
              "      <td>p</td>\n",
              "      <td>f</td>\n",
              "      <td>c</td>\n",
              "      <td>n</td>\n",
              "      <td>k</td>\n",
              "      <td>e</td>\n",
              "      <td>e</td>\n",
              "      <td>s</td>\n",
              "      <td>s</td>\n",
              "      <td>w</td>\n",
              "      <td>w</td>\n",
              "      <td>p</td>\n",
              "      <td>w</td>\n",
              "      <td>o</td>\n",
              "      <td>p</td>\n",
              "      <td>k</td>\n",
              "      <td>s</td>\n",
              "      <td>u</td>\n",
              "    </tr>\n",
              "    <tr>\n",
              "      <th>1</th>\n",
              "      <td>e</td>\n",
              "      <td>x</td>\n",
              "      <td>s</td>\n",
              "      <td>y</td>\n",
              "      <td>t</td>\n",
              "      <td>a</td>\n",
              "      <td>f</td>\n",
              "      <td>c</td>\n",
              "      <td>b</td>\n",
              "      <td>k</td>\n",
              "      <td>e</td>\n",
              "      <td>c</td>\n",
              "      <td>s</td>\n",
              "      <td>s</td>\n",
              "      <td>w</td>\n",
              "      <td>w</td>\n",
              "      <td>p</td>\n",
              "      <td>w</td>\n",
              "      <td>o</td>\n",
              "      <td>p</td>\n",
              "      <td>n</td>\n",
              "      <td>n</td>\n",
              "      <td>g</td>\n",
              "    </tr>\n",
              "    <tr>\n",
              "      <th>2</th>\n",
              "      <td>e</td>\n",
              "      <td>b</td>\n",
              "      <td>s</td>\n",
              "      <td>w</td>\n",
              "      <td>t</td>\n",
              "      <td>l</td>\n",
              "      <td>f</td>\n",
              "      <td>c</td>\n",
              "      <td>b</td>\n",
              "      <td>n</td>\n",
              "      <td>e</td>\n",
              "      <td>c</td>\n",
              "      <td>s</td>\n",
              "      <td>s</td>\n",
              "      <td>w</td>\n",
              "      <td>w</td>\n",
              "      <td>p</td>\n",
              "      <td>w</td>\n",
              "      <td>o</td>\n",
              "      <td>p</td>\n",
              "      <td>n</td>\n",
              "      <td>n</td>\n",
              "      <td>m</td>\n",
              "    </tr>\n",
              "    <tr>\n",
              "      <th>3</th>\n",
              "      <td>p</td>\n",
              "      <td>x</td>\n",
              "      <td>y</td>\n",
              "      <td>w</td>\n",
              "      <td>t</td>\n",
              "      <td>p</td>\n",
              "      <td>f</td>\n",
              "      <td>c</td>\n",
              "      <td>n</td>\n",
              "      <td>n</td>\n",
              "      <td>e</td>\n",
              "      <td>e</td>\n",
              "      <td>s</td>\n",
              "      <td>s</td>\n",
              "      <td>w</td>\n",
              "      <td>w</td>\n",
              "      <td>p</td>\n",
              "      <td>w</td>\n",
              "      <td>o</td>\n",
              "      <td>p</td>\n",
              "      <td>k</td>\n",
              "      <td>s</td>\n",
              "      <td>u</td>\n",
              "    </tr>\n",
              "    <tr>\n",
              "      <th>4</th>\n",
              "      <td>e</td>\n",
              "      <td>x</td>\n",
              "      <td>s</td>\n",
              "      <td>g</td>\n",
              "      <td>f</td>\n",
              "      <td>n</td>\n",
              "      <td>f</td>\n",
              "      <td>w</td>\n",
              "      <td>b</td>\n",
              "      <td>k</td>\n",
              "      <td>t</td>\n",
              "      <td>e</td>\n",
              "      <td>s</td>\n",
              "      <td>s</td>\n",
              "      <td>w</td>\n",
              "      <td>w</td>\n",
              "      <td>p</td>\n",
              "      <td>w</td>\n",
              "      <td>o</td>\n",
              "      <td>e</td>\n",
              "      <td>n</td>\n",
              "      <td>a</td>\n",
              "      <td>g</td>\n",
              "    </tr>\n",
              "  </tbody>\n",
              "</table>\n",
              "</div>"
            ],
            "text/plain": [
              "  class cap-shape cap-surface  ... spore-print-color population habitat\n",
              "0     p         x           s  ...                 k          s       u\n",
              "1     e         x           s  ...                 n          n       g\n",
              "2     e         b           s  ...                 n          n       m\n",
              "3     p         x           y  ...                 k          s       u\n",
              "4     e         x           s  ...                 n          a       g\n",
              "\n",
              "[5 rows x 23 columns]"
            ]
          },
          "metadata": {
            "tags": []
          },
          "execution_count": 5
        }
      ]
    },
    {
      "cell_type": "code",
      "metadata": {
        "id": "9PB-G6jrMWeC",
        "colab_type": "code",
        "outputId": "6f92b3c2-2d4e-44e9-a0f1-159850e933cd",
        "colab": {
          "base_uri": "https://localhost:8080/",
          "height": 34
        }
      },
      "source": [
        "df.shape"
      ],
      "execution_count": 6,
      "outputs": [
        {
          "output_type": "execute_result",
          "data": {
            "text/plain": [
              "(8124, 23)"
            ]
          },
          "metadata": {
            "tags": []
          },
          "execution_count": 6
        }
      ]
    },
    {
      "cell_type": "code",
      "metadata": {
        "id": "SoWtKxjgeP-V",
        "colab_type": "code",
        "outputId": "b1911db2-7152-4e41-a277-59511161a5d7",
        "colab": {
          "base_uri": "https://localhost:8080/",
          "height": 118
        }
      },
      "source": [
        "print(df.columns.values)  # Observamos el nombre de las columnas que contiene  el dataset"
      ],
      "execution_count": 7,
      "outputs": [
        {
          "output_type": "stream",
          "text": [
            "['class' 'cap-shape' 'cap-surface' 'cap-color' 'bruises' 'odor'\n",
            " 'gill-attachment' 'gill-spacing' 'gill-size' 'gill-color' 'stalk-shape'\n",
            " 'stalk-root' 'stalk-surface-above-ring' 'stalk-surface-below-ring'\n",
            " 'stalk-color-above-ring' 'stalk-color-below-ring' 'veil-type'\n",
            " 'veil-color' 'ring-number' 'ring-type' 'spore-print-color' 'population'\n",
            " 'habitat']\n"
          ],
          "name": "stdout"
        }
      ]
    },
    {
      "cell_type": "code",
      "metadata": {
        "id": "uCak5e51qkXQ",
        "colab_type": "code",
        "outputId": "3c2112b3-745e-4cb6-dc81-255337fc2963",
        "colab": {
          "base_uri": "https://localhost:8080/",
          "height": 236
        }
      },
      "source": [
        "df.describe()"
      ],
      "execution_count": 8,
      "outputs": [
        {
          "output_type": "execute_result",
          "data": {
            "text/html": [
              "<div>\n",
              "<style scoped>\n",
              "    .dataframe tbody tr th:only-of-type {\n",
              "        vertical-align: middle;\n",
              "    }\n",
              "\n",
              "    .dataframe tbody tr th {\n",
              "        vertical-align: top;\n",
              "    }\n",
              "\n",
              "    .dataframe thead th {\n",
              "        text-align: right;\n",
              "    }\n",
              "</style>\n",
              "<table border=\"1\" class=\"dataframe\">\n",
              "  <thead>\n",
              "    <tr style=\"text-align: right;\">\n",
              "      <th></th>\n",
              "      <th>class</th>\n",
              "      <th>cap-shape</th>\n",
              "      <th>cap-surface</th>\n",
              "      <th>cap-color</th>\n",
              "      <th>bruises</th>\n",
              "      <th>odor</th>\n",
              "      <th>gill-attachment</th>\n",
              "      <th>gill-spacing</th>\n",
              "      <th>gill-size</th>\n",
              "      <th>gill-color</th>\n",
              "      <th>stalk-shape</th>\n",
              "      <th>stalk-root</th>\n",
              "      <th>stalk-surface-above-ring</th>\n",
              "      <th>stalk-surface-below-ring</th>\n",
              "      <th>stalk-color-above-ring</th>\n",
              "      <th>stalk-color-below-ring</th>\n",
              "      <th>veil-type</th>\n",
              "      <th>veil-color</th>\n",
              "      <th>ring-number</th>\n",
              "      <th>ring-type</th>\n",
              "      <th>spore-print-color</th>\n",
              "      <th>population</th>\n",
              "      <th>habitat</th>\n",
              "    </tr>\n",
              "  </thead>\n",
              "  <tbody>\n",
              "    <tr>\n",
              "      <th>count</th>\n",
              "      <td>8124</td>\n",
              "      <td>8124</td>\n",
              "      <td>8124</td>\n",
              "      <td>8124</td>\n",
              "      <td>8124</td>\n",
              "      <td>8124</td>\n",
              "      <td>8124</td>\n",
              "      <td>8124</td>\n",
              "      <td>8124</td>\n",
              "      <td>8124</td>\n",
              "      <td>8124</td>\n",
              "      <td>8124</td>\n",
              "      <td>8124</td>\n",
              "      <td>8124</td>\n",
              "      <td>8124</td>\n",
              "      <td>8124</td>\n",
              "      <td>8124</td>\n",
              "      <td>8124</td>\n",
              "      <td>8124</td>\n",
              "      <td>8124</td>\n",
              "      <td>8124</td>\n",
              "      <td>8124</td>\n",
              "      <td>8124</td>\n",
              "    </tr>\n",
              "    <tr>\n",
              "      <th>unique</th>\n",
              "      <td>2</td>\n",
              "      <td>6</td>\n",
              "      <td>4</td>\n",
              "      <td>10</td>\n",
              "      <td>2</td>\n",
              "      <td>9</td>\n",
              "      <td>2</td>\n",
              "      <td>2</td>\n",
              "      <td>2</td>\n",
              "      <td>12</td>\n",
              "      <td>2</td>\n",
              "      <td>5</td>\n",
              "      <td>4</td>\n",
              "      <td>4</td>\n",
              "      <td>9</td>\n",
              "      <td>9</td>\n",
              "      <td>1</td>\n",
              "      <td>4</td>\n",
              "      <td>3</td>\n",
              "      <td>5</td>\n",
              "      <td>9</td>\n",
              "      <td>6</td>\n",
              "      <td>7</td>\n",
              "    </tr>\n",
              "    <tr>\n",
              "      <th>top</th>\n",
              "      <td>e</td>\n",
              "      <td>x</td>\n",
              "      <td>y</td>\n",
              "      <td>n</td>\n",
              "      <td>f</td>\n",
              "      <td>n</td>\n",
              "      <td>f</td>\n",
              "      <td>c</td>\n",
              "      <td>b</td>\n",
              "      <td>b</td>\n",
              "      <td>t</td>\n",
              "      <td>b</td>\n",
              "      <td>s</td>\n",
              "      <td>s</td>\n",
              "      <td>w</td>\n",
              "      <td>w</td>\n",
              "      <td>p</td>\n",
              "      <td>w</td>\n",
              "      <td>o</td>\n",
              "      <td>p</td>\n",
              "      <td>w</td>\n",
              "      <td>v</td>\n",
              "      <td>d</td>\n",
              "    </tr>\n",
              "    <tr>\n",
              "      <th>freq</th>\n",
              "      <td>4208</td>\n",
              "      <td>3656</td>\n",
              "      <td>3244</td>\n",
              "      <td>2284</td>\n",
              "      <td>4748</td>\n",
              "      <td>3528</td>\n",
              "      <td>7914</td>\n",
              "      <td>6812</td>\n",
              "      <td>5612</td>\n",
              "      <td>1728</td>\n",
              "      <td>4608</td>\n",
              "      <td>3776</td>\n",
              "      <td>5176</td>\n",
              "      <td>4936</td>\n",
              "      <td>4464</td>\n",
              "      <td>4384</td>\n",
              "      <td>8124</td>\n",
              "      <td>7924</td>\n",
              "      <td>7488</td>\n",
              "      <td>3968</td>\n",
              "      <td>2388</td>\n",
              "      <td>4040</td>\n",
              "      <td>3148</td>\n",
              "    </tr>\n",
              "  </tbody>\n",
              "</table>\n",
              "</div>"
            ],
            "text/plain": [
              "       class cap-shape cap-surface  ... spore-print-color population habitat\n",
              "count   8124      8124        8124  ...              8124       8124    8124\n",
              "unique     2         6           4  ...                 9          6       7\n",
              "top        e         x           y  ...                 w          v       d\n",
              "freq    4208      3656        3244  ...              2388       4040    3148\n",
              "\n",
              "[4 rows x 23 columns]"
            ]
          },
          "metadata": {
            "tags": []
          },
          "execution_count": 8
        }
      ]
    },
    {
      "cell_type": "markdown",
      "metadata": {
        "id": "wKMf5FCvZlxT",
        "colab_type": "text"
      },
      "source": [
        "## Preprocesamiento de datos"
      ]
    },
    {
      "cell_type": "code",
      "metadata": {
        "id": "ioDXzVopXoLd",
        "colab_type": "code",
        "colab": {}
      },
      "source": [
        "# Retiramos veil-type ya que no aporta informacion al ser un unico valor \"p\" durante todo el dataset\n",
        "\n",
        "df = df.drop(\"veil-type\",1)"
      ],
      "execution_count": 0,
      "outputs": []
    },
    {
      "cell_type": "code",
      "metadata": {
        "id": "9pmjUTD7eSLr",
        "colab_type": "code",
        "outputId": "6b4a10ce-cb8b-4fea-c94c-11debf50155c",
        "colab": {
          "base_uri": "https://localhost:8080/",
          "height": 470
        }
      },
      "source": [
        "df.info()                 # Revisamos el tipo de datos por cada columna   "
      ],
      "execution_count": 10,
      "outputs": [
        {
          "output_type": "stream",
          "text": [
            "<class 'pandas.core.frame.DataFrame'>\n",
            "RangeIndex: 8124 entries, 0 to 8123\n",
            "Data columns (total 22 columns):\n",
            "class                       8124 non-null object\n",
            "cap-shape                   8124 non-null object\n",
            "cap-surface                 8124 non-null object\n",
            "cap-color                   8124 non-null object\n",
            "bruises                     8124 non-null object\n",
            "odor                        8124 non-null object\n",
            "gill-attachment             8124 non-null object\n",
            "gill-spacing                8124 non-null object\n",
            "gill-size                   8124 non-null object\n",
            "gill-color                  8124 non-null object\n",
            "stalk-shape                 8124 non-null object\n",
            "stalk-root                  8124 non-null object\n",
            "stalk-surface-above-ring    8124 non-null object\n",
            "stalk-surface-below-ring    8124 non-null object\n",
            "stalk-color-above-ring      8124 non-null object\n",
            "stalk-color-below-ring      8124 non-null object\n",
            "veil-color                  8124 non-null object\n",
            "ring-number                 8124 non-null object\n",
            "ring-type                   8124 non-null object\n",
            "spore-print-color           8124 non-null object\n",
            "population                  8124 non-null object\n",
            "habitat                     8124 non-null object\n",
            "dtypes: object(22)\n",
            "memory usage: 1.4+ MB\n"
          ],
          "name": "stdout"
        }
      ]
    },
    {
      "cell_type": "markdown",
      "metadata": {
        "id": "-CrXhlypXPEG",
        "colab_type": "text"
      },
      "source": [
        "Sabemos que el dataset contiene en sus datos faltantes el signo '?'. Por lo cual vamos a proceder a transformarlo a NaN para su tratamiento"
      ]
    },
    {
      "cell_type": "code",
      "metadata": {
        "id": "cF7vgR9BqPAL",
        "colab_type": "code",
        "outputId": "49c0b85f-07b9-4137-ddf2-4ba65f42b05f",
        "colab": {
          "base_uri": "https://localhost:8080/",
          "height": 403
        }
      },
      "source": [
        "df = df.replace ({'?': np.NaN}) \n",
        "print (df.isna (). sum ())"
      ],
      "execution_count": 11,
      "outputs": [
        {
          "output_type": "stream",
          "text": [
            "class                          0\n",
            "cap-shape                      0\n",
            "cap-surface                    0\n",
            "cap-color                      0\n",
            "bruises                        0\n",
            "odor                           0\n",
            "gill-attachment                0\n",
            "gill-spacing                   0\n",
            "gill-size                      0\n",
            "gill-color                     0\n",
            "stalk-shape                    0\n",
            "stalk-root                  2480\n",
            "stalk-surface-above-ring       0\n",
            "stalk-surface-below-ring       0\n",
            "stalk-color-above-ring         0\n",
            "stalk-color-below-ring         0\n",
            "veil-color                     0\n",
            "ring-number                    0\n",
            "ring-type                      0\n",
            "spore-print-color              0\n",
            "population                     0\n",
            "habitat                        0\n",
            "dtype: int64\n"
          ],
          "name": "stdout"
        }
      ]
    },
    {
      "cell_type": "code",
      "metadata": {
        "id": "eDYO1hDYrNfN",
        "colab_type": "code",
        "colab": {}
      },
      "source": [
        "# Reemplazamos los NaN de stalk root por una categoria \"m\", dado que solo hay valores faltantes aquí\n",
        "df['stalk-root'] = df['stalk-root'].replace(np.NaN,'m')"
      ],
      "execution_count": 0,
      "outputs": []
    },
    {
      "cell_type": "markdown",
      "metadata": {
        "id": "VDg3Ttw_X32y",
        "colab_type": "text"
      },
      "source": [
        "## Generación de arrays X y Y para modelación"
      ]
    },
    {
      "cell_type": "code",
      "metadata": {
        "id": "7iLLwtdOJtkb",
        "colab_type": "code",
        "colab": {}
      },
      "source": [
        "X = df.drop(columns='class')                               # Eliminamos la columna clase que es nuestra target \n",
        "y = df['class'].replace({'p':0, 'e':1})                    # Extraemos la clase o target "
      ],
      "execution_count": 0,
      "outputs": []
    },
    {
      "cell_type": "code",
      "metadata": {
        "id": "3c2Q4JF5PH_G",
        "colab_type": "code",
        "colab": {}
      },
      "source": [
        "#X = df.drop(columns='class')                               # Eliminamos la columna clase que es nuestra target \n",
        "#X = ce.OneHotEncoder(use_cat_names=True).fit_transform(X)  # Aplicamos en onehotencoding"
      ],
      "execution_count": 0,
      "outputs": []
    },
    {
      "cell_type": "markdown",
      "metadata": {
        "id": "toqukijsZ92l",
        "colab_type": "text"
      },
      "source": [
        "Vamos a realizar un LabelEncoding para las variables categoricas. Este genera un numero entero para cada categoria de la columna. \n",
        "\n",
        "Nota: Revisamos en las discusiones acerca de utilizar el LabelEnconding y el OneHotEnconding y se trabajará con el Label ya que estamos realizando una tarea de clasificación y uno de los algoritmos que utilizaremos serán los arboles de clasificación, el cual segun algunas discusiones que revisamos no es conveniente utilizar el OneHot. Sin embargo al final de este libro haremos una prueba con el mejor modelo utilizando las descriptoras X pasandolas por el OneHot.\n",
        "\n",
        "Discusión sobre OneHotEncoding en Arboles de clasificación:\n",
        "https://roamanalytics.com/2016/10/28/are-categorical-variables-getting-lost-in-your-random-forests/"
      ]
    },
    {
      "cell_type": "code",
      "metadata": {
        "id": "ylJ9cJb3Orgr",
        "colab_type": "code",
        "outputId": "35a74f21-7b2d-4074-e118-d9e52152bed0",
        "colab": {
          "base_uri": "https://localhost:8080/",
          "height": 186
        }
      },
      "source": [
        "# Realizamos el LabelEnconder para las descriptras X\n",
        "labelencoder=LabelEncoder()                                 # Instanciamos el LabelEnconder  \n",
        "\n",
        "for col in X.columns:\n",
        "    X[col] = labelencoder.fit_transform(X[col])\n",
        " \n",
        "X.head(3)"
      ],
      "execution_count": 15,
      "outputs": [
        {
          "output_type": "execute_result",
          "data": {
            "text/html": [
              "<div>\n",
              "<style scoped>\n",
              "    .dataframe tbody tr th:only-of-type {\n",
              "        vertical-align: middle;\n",
              "    }\n",
              "\n",
              "    .dataframe tbody tr th {\n",
              "        vertical-align: top;\n",
              "    }\n",
              "\n",
              "    .dataframe thead th {\n",
              "        text-align: right;\n",
              "    }\n",
              "</style>\n",
              "<table border=\"1\" class=\"dataframe\">\n",
              "  <thead>\n",
              "    <tr style=\"text-align: right;\">\n",
              "      <th></th>\n",
              "      <th>cap-shape</th>\n",
              "      <th>cap-surface</th>\n",
              "      <th>cap-color</th>\n",
              "      <th>bruises</th>\n",
              "      <th>odor</th>\n",
              "      <th>gill-attachment</th>\n",
              "      <th>gill-spacing</th>\n",
              "      <th>gill-size</th>\n",
              "      <th>gill-color</th>\n",
              "      <th>stalk-shape</th>\n",
              "      <th>stalk-root</th>\n",
              "      <th>stalk-surface-above-ring</th>\n",
              "      <th>stalk-surface-below-ring</th>\n",
              "      <th>stalk-color-above-ring</th>\n",
              "      <th>stalk-color-below-ring</th>\n",
              "      <th>veil-color</th>\n",
              "      <th>ring-number</th>\n",
              "      <th>ring-type</th>\n",
              "      <th>spore-print-color</th>\n",
              "      <th>population</th>\n",
              "      <th>habitat</th>\n",
              "    </tr>\n",
              "  </thead>\n",
              "  <tbody>\n",
              "    <tr>\n",
              "      <th>0</th>\n",
              "      <td>5</td>\n",
              "      <td>2</td>\n",
              "      <td>4</td>\n",
              "      <td>1</td>\n",
              "      <td>6</td>\n",
              "      <td>1</td>\n",
              "      <td>0</td>\n",
              "      <td>1</td>\n",
              "      <td>4</td>\n",
              "      <td>0</td>\n",
              "      <td>2</td>\n",
              "      <td>2</td>\n",
              "      <td>2</td>\n",
              "      <td>7</td>\n",
              "      <td>7</td>\n",
              "      <td>2</td>\n",
              "      <td>1</td>\n",
              "      <td>4</td>\n",
              "      <td>2</td>\n",
              "      <td>3</td>\n",
              "      <td>5</td>\n",
              "    </tr>\n",
              "    <tr>\n",
              "      <th>1</th>\n",
              "      <td>5</td>\n",
              "      <td>2</td>\n",
              "      <td>9</td>\n",
              "      <td>1</td>\n",
              "      <td>0</td>\n",
              "      <td>1</td>\n",
              "      <td>0</td>\n",
              "      <td>0</td>\n",
              "      <td>4</td>\n",
              "      <td>0</td>\n",
              "      <td>1</td>\n",
              "      <td>2</td>\n",
              "      <td>2</td>\n",
              "      <td>7</td>\n",
              "      <td>7</td>\n",
              "      <td>2</td>\n",
              "      <td>1</td>\n",
              "      <td>4</td>\n",
              "      <td>3</td>\n",
              "      <td>2</td>\n",
              "      <td>1</td>\n",
              "    </tr>\n",
              "    <tr>\n",
              "      <th>2</th>\n",
              "      <td>0</td>\n",
              "      <td>2</td>\n",
              "      <td>8</td>\n",
              "      <td>1</td>\n",
              "      <td>3</td>\n",
              "      <td>1</td>\n",
              "      <td>0</td>\n",
              "      <td>0</td>\n",
              "      <td>5</td>\n",
              "      <td>0</td>\n",
              "      <td>1</td>\n",
              "      <td>2</td>\n",
              "      <td>2</td>\n",
              "      <td>7</td>\n",
              "      <td>7</td>\n",
              "      <td>2</td>\n",
              "      <td>1</td>\n",
              "      <td>4</td>\n",
              "      <td>3</td>\n",
              "      <td>2</td>\n",
              "      <td>3</td>\n",
              "    </tr>\n",
              "  </tbody>\n",
              "</table>\n",
              "</div>"
            ],
            "text/plain": [
              "   cap-shape  cap-surface  cap-color  ...  spore-print-color  population  habitat\n",
              "0          5            2          4  ...                  2           3        5\n",
              "1          5            2          9  ...                  3           2        1\n",
              "2          0            2          8  ...                  3           2        3\n",
              "\n",
              "[3 rows x 21 columns]"
            ]
          },
          "metadata": {
            "tags": []
          },
          "execution_count": 15
        }
      ]
    },
    {
      "cell_type": "code",
      "metadata": {
        "id": "fGXwXVAhQMvf",
        "colab_type": "code",
        "colab": {}
      },
      "source": [
        "# Realizamos un proceso de estandarización de los datos\n",
        "\n",
        "colnames = X.columns.values\n",
        "scaler = StandardScaler()                  # Utilizamos StandarScaler \n",
        "X = scaler.fit_transform(X)                # Ejecutamos el escalado\n",
        "X = pd.DataFrame(X)                        # Convertimos a dataframe\n",
        "X.columns = colnames                       # Nombre de columnas "
      ],
      "execution_count": 0,
      "outputs": []
    },
    {
      "cell_type": "code",
      "metadata": {
        "id": "qorcpG0pb7JW",
        "colab_type": "code",
        "outputId": "adf79477-628f-4a33-8fdf-adfee81465a1",
        "colab": {
          "base_uri": "https://localhost:8080/",
          "height": 206
        }
      },
      "source": [
        "X.head(3)                                  # Revisamos como quedan los datos con los primeros 3 registros "
      ],
      "execution_count": 17,
      "outputs": [
        {
          "output_type": "execute_result",
          "data": {
            "text/html": [
              "<div>\n",
              "<style scoped>\n",
              "    .dataframe tbody tr th:only-of-type {\n",
              "        vertical-align: middle;\n",
              "    }\n",
              "\n",
              "    .dataframe tbody tr th {\n",
              "        vertical-align: top;\n",
              "    }\n",
              "\n",
              "    .dataframe thead th {\n",
              "        text-align: right;\n",
              "    }\n",
              "</style>\n",
              "<table border=\"1\" class=\"dataframe\">\n",
              "  <thead>\n",
              "    <tr style=\"text-align: right;\">\n",
              "      <th></th>\n",
              "      <th>cap-shape</th>\n",
              "      <th>cap-surface</th>\n",
              "      <th>cap-color</th>\n",
              "      <th>bruises</th>\n",
              "      <th>odor</th>\n",
              "      <th>gill-attachment</th>\n",
              "      <th>gill-spacing</th>\n",
              "      <th>gill-size</th>\n",
              "      <th>gill-color</th>\n",
              "      <th>stalk-shape</th>\n",
              "      <th>stalk-root</th>\n",
              "      <th>stalk-surface-above-ring</th>\n",
              "      <th>stalk-surface-below-ring</th>\n",
              "      <th>stalk-color-above-ring</th>\n",
              "      <th>stalk-color-below-ring</th>\n",
              "      <th>veil-color</th>\n",
              "      <th>ring-number</th>\n",
              "      <th>ring-type</th>\n",
              "      <th>spore-print-color</th>\n",
              "      <th>population</th>\n",
              "      <th>habitat</th>\n",
              "    </tr>\n",
              "  </thead>\n",
              "  <tbody>\n",
              "    <tr>\n",
              "      <th>0</th>\n",
              "      <td>1.029712</td>\n",
              "      <td>0.140128</td>\n",
              "      <td>-0.198250</td>\n",
              "      <td>1.185917</td>\n",
              "      <td>0.881938</td>\n",
              "      <td>0.162896</td>\n",
              "      <td>-0.438864</td>\n",
              "      <td>1.494683</td>\n",
              "      <td>-0.228998</td>\n",
              "      <td>-1.144806</td>\n",
              "      <td>0.466971</td>\n",
              "      <td>0.683778</td>\n",
              "      <td>0.586385</td>\n",
              "      <td>0.622441</td>\n",
              "      <td>0.631991</td>\n",
              "      <td>0.142037</td>\n",
              "      <td>-0.256132</td>\n",
              "      <td>0.948081</td>\n",
              "      <td>-0.670195</td>\n",
              "      <td>-0.514389</td>\n",
              "      <td>2.030028</td>\n",
              "    </tr>\n",
              "    <tr>\n",
              "      <th>1</th>\n",
              "      <td>1.029712</td>\n",
              "      <td>0.140128</td>\n",
              "      <td>1.765874</td>\n",
              "      <td>1.185917</td>\n",
              "      <td>-1.970316</td>\n",
              "      <td>0.162896</td>\n",
              "      <td>-0.438864</td>\n",
              "      <td>-0.669038</td>\n",
              "      <td>-0.228998</td>\n",
              "      <td>-1.144806</td>\n",
              "      <td>-0.256460</td>\n",
              "      <td>0.683778</td>\n",
              "      <td>0.586385</td>\n",
              "      <td>0.622441</td>\n",
              "      <td>0.631991</td>\n",
              "      <td>0.142037</td>\n",
              "      <td>-0.256132</td>\n",
              "      <td>0.948081</td>\n",
              "      <td>-0.250471</td>\n",
              "      <td>-1.313108</td>\n",
              "      <td>-0.295730</td>\n",
              "    </tr>\n",
              "    <tr>\n",
              "      <th>2</th>\n",
              "      <td>-2.087047</td>\n",
              "      <td>0.140128</td>\n",
              "      <td>1.373049</td>\n",
              "      <td>1.185917</td>\n",
              "      <td>-0.544189</td>\n",
              "      <td>0.162896</td>\n",
              "      <td>-0.438864</td>\n",
              "      <td>-0.669038</td>\n",
              "      <td>0.053477</td>\n",
              "      <td>-1.144806</td>\n",
              "      <td>-0.256460</td>\n",
              "      <td>0.683778</td>\n",
              "      <td>0.586385</td>\n",
              "      <td>0.622441</td>\n",
              "      <td>0.631991</td>\n",
              "      <td>0.142037</td>\n",
              "      <td>-0.256132</td>\n",
              "      <td>0.948081</td>\n",
              "      <td>-0.250471</td>\n",
              "      <td>-1.313108</td>\n",
              "      <td>0.867149</td>\n",
              "    </tr>\n",
              "  </tbody>\n",
              "</table>\n",
              "</div>"
            ],
            "text/plain": [
              "   cap-shape  cap-surface  cap-color  ...  spore-print-color  population   habitat\n",
              "0   1.029712     0.140128  -0.198250  ...          -0.670195   -0.514389  2.030028\n",
              "1   1.029712     0.140128   1.765874  ...          -0.250471   -1.313108 -0.295730\n",
              "2  -2.087047     0.140128   1.373049  ...          -0.250471   -1.313108  0.867149\n",
              "\n",
              "[3 rows x 21 columns]"
            ]
          },
          "metadata": {
            "tags": []
          },
          "execution_count": 17
        }
      ]
    },
    {
      "cell_type": "code",
      "metadata": {
        "id": "7XqtLYv3IvGE",
        "colab_type": "code",
        "outputId": "c4220a7f-00e1-4a59-9e60-7859685b3d61",
        "colab": {
          "base_uri": "https://localhost:8080/",
          "height": 34
        }
      },
      "source": [
        "print(sorted(Counter(y).items())) # Observamos cuantos datos tenemos por cada clase"
      ],
      "execution_count": 18,
      "outputs": [
        {
          "output_type": "stream",
          "text": [
            "[(0, 3916), (1, 4208)]\n"
          ],
          "name": "stdout"
        }
      ]
    },
    {
      "cell_type": "code",
      "metadata": {
        "id": "nZsIeJ0wIzmn",
        "colab_type": "code",
        "outputId": "42d5039e-2730-4dc0-b619-e8fae3aa687b",
        "colab": {
          "base_uri": "https://localhost:8080/",
          "height": 67
        }
      },
      "source": [
        "# En porcentaje\n",
        "df['class'].value_counts(normalize=True)"
      ],
      "execution_count": 19,
      "outputs": [
        {
          "output_type": "execute_result",
          "data": {
            "text/plain": [
              "e    0.517971\n",
              "p    0.482029\n",
              "Name: class, dtype: float64"
            ]
          },
          "metadata": {
            "tags": []
          },
          "execution_count": 19
        }
      ]
    },
    {
      "cell_type": "markdown",
      "metadata": {
        "id": "tdESizVdI4HO",
        "colab_type": "text"
      },
      "source": [
        "Es decir que modelo base tendrá un desempeño de 51,79%, es decir, no hacer \"nada\" es tener ese desempeño de modelo. Por lo cual esperamos que al utilizar modelos matematicos y estadisticos podamos mejorar el desempeño"
      ]
    },
    {
      "cell_type": "markdown",
      "metadata": {
        "id": "N2aqI3NZpQBY",
        "colab_type": "text"
      },
      "source": [
        "Vamos a realizar la partición de datos para entrenar modelos\n"
      ]
    },
    {
      "cell_type": "code",
      "metadata": {
        "id": "vehHaX25pAfG",
        "colab_type": "code",
        "colab": {}
      },
      "source": [
        "# particion de datos en train y test\n",
        "X_train, X_test, y_train, y_test = train_test_split(X,y,test_size = 0.2,stratify=y)"
      ],
      "execution_count": 0,
      "outputs": []
    },
    {
      "cell_type": "code",
      "metadata": {
        "id": "QJbQV0mkK2Kr",
        "colab_type": "code",
        "colab": {}
      },
      "source": [
        "# Partición de train\n",
        "X_train, X_val1, y_train, y_val1 = train_test_split(X,y,\n",
        "                                                    stratify=y, \n",
        "                                                    test_size=0.40,  random_state = 42)\n",
        "\n",
        "# Partición validación y test\n",
        "X_val, X_test, y_val, y_test = train_test_split(X_val1, y_val1,\n",
        "                                                    stratify=y_val1, \n",
        "                                                    test_size=0.4,  random_state = 42)\t\t\t\t\t\t\t\t\t\t\t\t\t"
      ],
      "execution_count": 0,
      "outputs": []
    },
    {
      "cell_type": "markdown",
      "metadata": {
        "id": "FF9MhNFPJOnU",
        "colab_type": "text"
      },
      "source": [
        "Ahora vamos a realizar la modelación de datos. Para esto vamos a realizar tres modelos de clasificación supervisada:\n",
        "\n",
        "1. Regresión Logistica + Regularización\n",
        "2. Maquinas de soporte vectorial\n",
        "3. Random Forest"
      ]
    },
    {
      "cell_type": "markdown",
      "metadata": {
        "id": "o4NamZhxJUgv",
        "colab_type": "text"
      },
      "source": [
        "# Modelo 1. Regresión Logistica + Regularización"
      ]
    },
    {
      "cell_type": "code",
      "metadata": {
        "id": "2E4yVi8YJT7t",
        "colab_type": "code",
        "outputId": "0f853c0d-756f-440b-f704-c1a8c66062c2",
        "colab": {
          "base_uri": "https://localhost:8080/",
          "height": 67
        }
      },
      "source": [
        "logre =LogisticRegression()                            # Instanciamos el modelo \n",
        "logre.fit(X_train,y_train)                             # Ajustamos los datos de entrenamiento\n",
        "\n",
        "\n",
        "# Desempeño en accuracy entrenamiento\n",
        "print('El desempeño de la regresión logistica en train es de', accuracy_score(y_train, logre.predict(X_train)))\n",
        "\n",
        "# Desempeño en val\n",
        "print('El desempeño de la regresion logistica  en validacion es de', accuracy_score(y_val, logre.predict(X_val)))\n",
        "\n",
        "# Desempeño en accuracy test\n",
        "print('El desempeño de la regresión logistica en test es de', accuracy_score(y_test, logre.predict(X_test) ))"
      ],
      "execution_count": 22,
      "outputs": [
        {
          "output_type": "stream",
          "text": [
            "El desempeño de la regresión logistica en train es de 0.9645055395978662\n",
            "El desempeño de la regresion logistica  en validacion es de 0.9615384615384616\n",
            "El desempeño de la regresión logistica en test es de 0.9546153846153846\n"
          ],
          "name": "stdout"
        }
      ]
    },
    {
      "cell_type": "code",
      "metadata": {
        "id": "YlA8boGcJQfg",
        "colab_type": "code",
        "outputId": "31a64fdd-30ba-418e-a88a-eb27ce43be7f",
        "colab": {
          "base_uri": "https://localhost:8080/",
          "height": 168
        }
      },
      "source": [
        "# Observemos algunas metricas mas adecuadas para clasificacion binaria\n",
        "print(classification_report(y_val, logre.predict(X_val)))             # Revisamos metricas"
      ],
      "execution_count": 23,
      "outputs": [
        {
          "output_type": "stream",
          "text": [
            "              precision    recall  f1-score   support\n",
            "\n",
            "           0       0.97      0.95      0.96       940\n",
            "           1       0.96      0.97      0.96      1010\n",
            "\n",
            "    accuracy                           0.96      1950\n",
            "   macro avg       0.96      0.96      0.96      1950\n",
            "weighted avg       0.96      0.96      0.96      1950\n",
            "\n"
          ],
          "name": "stdout"
        }
      ]
    },
    {
      "cell_type": "code",
      "metadata": {
        "id": "2dWgeMr7HDpd",
        "colab_type": "code",
        "outputId": "6c725924-08ac-42b1-936a-e6a6142d5ae3",
        "colab": {
          "base_uri": "https://localhost:8080/",
          "height": 295
        }
      },
      "source": [
        "# Graficamos curva ROC\n",
        "plot_roc_curve(logre, X_val, y_val)\n",
        "plt.plot([0, 1], [0, 1], 'k--')\n",
        "plt.xlabel('Tasa de falsos positivos ')\n",
        "plt.ylabel('Tasa de verdaderos positivos')\n",
        "plt.title('Curva ROC')\n",
        "plt.show()"
      ],
      "execution_count": 24,
      "outputs": [
        {
          "output_type": "display_data",
          "data": {
            "image/png": "[encoded data removed]",
            "text/plain": [
              "<Figure size 432x288 with 1 Axes>"
            ]
          },
          "metadata": {
            "tags": []
          }
        }
      ]
    },
    {
      "cell_type": "markdown",
      "metadata": {
        "id": "TXirbJEWMI3l",
        "colab_type": "text"
      },
      "source": [
        "Ahora vamos a realizar una optimización y ajuste de los hiperparametros de la regresión logistica mediante el la función `GridSearchCV`"
      ]
    },
    {
      "cell_type": "code",
      "metadata": {
        "id": "NwFxDU1lJQon",
        "colab_type": "code",
        "colab": {}
      },
      "source": [
        "# Vamos a realizar procesos de busqueda de parametros optimos para la regresión\n",
        "# Esto con el fin de buscar mejor rendimiento y evitar sobreajuste en los datos con la regularizacion\n",
        "\n",
        "parameters={\"C\":np.logspace(-3,3,7), \n",
        "            \"penalty\":[\"l1\",\"l2\"]}   # Configuramos parametros de busqueda\n",
        "\n",
        "logre_2=GridSearchCV(logre,\n",
        "                     parameters,\n",
        "                     cv=5,\n",
        "                     scoring = 'accuracy')"
      ],
      "execution_count": 0,
      "outputs": []
    },
    {
      "cell_type": "code",
      "metadata": {
        "id": "FPL8nK8KLl3m",
        "colab_type": "code",
        "outputId": "fa90001f-90f6-4b10-dc52-0e0c135c98b2",
        "colab": {
          "base_uri": "https://localhost:8080/",
          "height": 252
        }
      },
      "source": [
        "logre_2.fit(X_train,y_train)  "
      ],
      "execution_count": 26,
      "outputs": [
        {
          "output_type": "execute_result",
          "data": {
            "text/plain": [
              "GridSearchCV(cv=5, error_score=nan,\n",
              "             estimator=LogisticRegression(C=1.0, class_weight=None, dual=False,\n",
              "                                          fit_intercept=True,\n",
              "                                          intercept_scaling=1, l1_ratio=None,\n",
              "                                          max_iter=100, multi_class='auto',\n",
              "                                          n_jobs=None, penalty='l2',\n",
              "                                          random_state=None, solver='lbfgs',\n",
              "                                          tol=0.0001, verbose=0,\n",
              "                                          warm_start=False),\n",
              "             iid='deprecated', n_jobs=None,\n",
              "             param_grid={'C': array([1.e-03, 1.e-02, 1.e-01, 1.e+00, 1.e+01, 1.e+02, 1.e+03]),\n",
              "                         'penalty': ['l1', 'l2']},\n",
              "             pre_dispatch='2*n_jobs', refit=True, return_train_score=False,\n",
              "             scoring='accuracy', verbose=0)"
            ]
          },
          "metadata": {
            "tags": []
          },
          "execution_count": 26
        }
      ]
    },
    {
      "cell_type": "code",
      "metadata": {
        "id": "KWEnFJyeJQmx",
        "colab_type": "code",
        "outputId": "76b15658-acf6-42c9-cb9d-ebbb214d25f1",
        "colab": {
          "base_uri": "https://localhost:8080/",
          "height": 34
        }
      },
      "source": [
        "print('El desempeño de la regresión logistica en test luego de regularizar  es de', accuracy_score(y_test, logre_2.predict(X_test)))"
      ],
      "execution_count": 27,
      "outputs": [
        {
          "output_type": "stream",
          "text": [
            "El desempeño de la regresión logistica en test luego de regularizar  es de 0.963076923076923\n"
          ],
          "name": "stdout"
        }
      ]
    },
    {
      "cell_type": "code",
      "metadata": {
        "id": "yU1iS4mtJQls",
        "colab_type": "code",
        "outputId": "870c6637-9041-49a9-d64f-0c5ac0723f0b",
        "colab": {
          "base_uri": "https://localhost:8080/",
          "height": 168
        }
      },
      "source": [
        "# Observemos algunas metricas mas adecuadas para clasificacion binaria\n",
        "print(classification_report(y_test, logre_2.predict(X_test)))             # Revisamos metricas"
      ],
      "execution_count": 28,
      "outputs": [
        {
          "output_type": "stream",
          "text": [
            "              precision    recall  f1-score   support\n",
            "\n",
            "           0       0.97      0.95      0.96       627\n",
            "           1       0.96      0.97      0.96       673\n",
            "\n",
            "    accuracy                           0.96      1300\n",
            "   macro avg       0.96      0.96      0.96      1300\n",
            "weighted avg       0.96      0.96      0.96      1300\n",
            "\n"
          ],
          "name": "stdout"
        }
      ]
    },
    {
      "cell_type": "markdown",
      "metadata": {
        "id": "Pvvtn32kTDnv",
        "colab_type": "text"
      },
      "source": [
        "# Modelo 2. Maquinas de soporte vectorial"
      ]
    },
    {
      "cell_type": "code",
      "metadata": {
        "id": "20imCuN3TD_Y",
        "colab_type": "code",
        "outputId": "e2a2e6ed-aa5e-4a4a-9181-4498c5ed94bd",
        "colab": {
          "base_uri": "https://localhost:8080/",
          "height": 67
        }
      },
      "source": [
        "sv=SVC()\n",
        "\n",
        "sv.fit(X_train, y_train)                                    # Entrenamos el modelo\n",
        "\n",
        "# Desempeño en accuracy entrenamiento\n",
        "print('El desempeño del SVM  en train es de', accuracy_score(y_train, sv.predict(X_train)))\n",
        "\n",
        "# Desempeño en val\n",
        "print('El desempeño del SVM  en validacion es de', accuracy_score(y_val, sv.predict(X_val)))\n",
        "\n",
        "# Desempeño en test \n",
        "print('El desempeño del SVM en test es de', accuracy_score(y_test, sv.predict(X_test)))"
      ],
      "execution_count": 29,
      "outputs": [
        {
          "output_type": "stream",
          "text": [
            "El desempeño del SVM  en train es de 1.0\n",
            "El desempeño del SVM  en validacion es de 0.9984615384615385\n",
            "El desempeño del SVM en test es de 0.9992307692307693\n"
          ],
          "name": "stdout"
        }
      ]
    },
    {
      "cell_type": "code",
      "metadata": {
        "id": "Gjn4VQfoTtyg",
        "colab_type": "code",
        "outputId": "f0a62d44-eb34-4671-a552-bdaae7aa7384",
        "colab": {
          "base_uri": "https://localhost:8080/",
          "height": 168
        }
      },
      "source": [
        "# Observemos algunas metricas mas adecuadas para clasificacion binaria\n",
        "print(classification_report(y_val, sv.predict(X_val)))             # Revisamos metricas"
      ],
      "execution_count": 30,
      "outputs": [
        {
          "output_type": "stream",
          "text": [
            "              precision    recall  f1-score   support\n",
            "\n",
            "           0       1.00      1.00      1.00       940\n",
            "           1       1.00      1.00      1.00      1010\n",
            "\n",
            "    accuracy                           1.00      1950\n",
            "   macro avg       1.00      1.00      1.00      1950\n",
            "weighted avg       1.00      1.00      1.00      1950\n",
            "\n"
          ],
          "name": "stdout"
        }
      ]
    },
    {
      "cell_type": "code",
      "metadata": {
        "id": "-A69gDEtTtwc",
        "colab_type": "code",
        "outputId": "7f09da0b-d6ed-4028-c035-d972fdb2e811",
        "colab": {
          "base_uri": "https://localhost:8080/",
          "height": 295
        }
      },
      "source": [
        "# Graficamos curva ROC\n",
        "plot_roc_curve(sv, X_val, y_val)\n",
        "plt.plot([0, 1], [0, 1], 'k--')\n",
        "plt.xlabel('Tasa de falsos positivos ')\n",
        "plt.ylabel('Tasa de verdaderos positivos')\n",
        "plt.title('Curva ROC')\n",
        "plt.show()"
      ],
      "execution_count": 31,
      "outputs": [
        {
          "output_type": "display_data",
          "data": {
            "image/png": "[encoded data removed]",
            "text/plain": [
              "<Figure size 432x288 with 1 Axes>"
            ]
          },
          "metadata": {
            "tags": []
          }
        }
      ]
    },
    {
      "cell_type": "code",
      "metadata": {
        "id": "63LUsl2vT6jl",
        "colab_type": "code",
        "colab": {}
      },
      "source": [
        "# Vamos a realizar procesos de busqueda de parametros optimos para la regresión\n",
        "# Esto con el fin de buscar mejor rendimiento y evitar sobreajuste en los datos con la regularizacion\n",
        "\n",
        "tuned_parameters = [{'kernel': ['rbf'], 'gamma': [1e-3, 1e-4],\n",
        "                      'C':[1, 10, 20, 30]},\n",
        "                      {'kernel': ['linear'], 'C':[1, 10, 20, 30]}]\n",
        "\n",
        "sv_2=GridSearchCV(sv,\n",
        "                     tuned_parameters,\n",
        "                     cv=5,\n",
        "                     scoring = 'accuracy')"
      ],
      "execution_count": 0,
      "outputs": []
    },
    {
      "cell_type": "code",
      "metadata": {
        "id": "Smb2m27TT6mL",
        "colab_type": "code",
        "outputId": "d988271b-7b94-4609-9d20-fb45d95f8033",
        "colab": {
          "base_uri": "https://localhost:8080/",
          "height": 67
        }
      },
      "source": [
        "sv_2.fit(X_train, y_train) \n",
        "\n",
        "# Desempeño en accuracy entrenamiento\n",
        "print('El desempeño del arbol en train es de', accuracy_score(y_train, sv_2.predict(X_train)))\n",
        "\n",
        "# Desempeño en val\n",
        "print('El desempeño del arbol en validacion es de', accuracy_score(y_val, sv_2.predict(X_val)))\n",
        "\n",
        "# Desempeño en test \n",
        "print('El desempeño del arbol en test es de', accuracy_score(y_test, sv_2.predict(X_test)))"
      ],
      "execution_count": 33,
      "outputs": [
        {
          "output_type": "stream",
          "text": [
            "El desempeño del arbol en train es de 0.9792778005744768\n",
            "El desempeño del arbol en validacion es de 0.977948717948718\n",
            "El desempeño del arbol en test es de 0.9738461538461538\n"
          ],
          "name": "stdout"
        }
      ]
    },
    {
      "cell_type": "code",
      "metadata": {
        "id": "_os1W8BUVYHW",
        "colab_type": "code",
        "outputId": "0932551e-63da-4a6e-cc4e-de5de4d79c02",
        "colab": {
          "base_uri": "https://localhost:8080/",
          "height": 168
        }
      },
      "source": [
        "# Observemos algunas metricas mas adecuadas para clasificacion binaria\n",
        "print(classification_report(y_val, sv_2.predict(X_val)))             # Revisamos metricas"
      ],
      "execution_count": 34,
      "outputs": [
        {
          "output_type": "stream",
          "text": [
            "              precision    recall  f1-score   support\n",
            "\n",
            "           0       0.97      0.99      0.98       940\n",
            "           1       0.99      0.97      0.98      1010\n",
            "\n",
            "    accuracy                           0.98      1950\n",
            "   macro avg       0.98      0.98      0.98      1950\n",
            "weighted avg       0.98      0.98      0.98      1950\n",
            "\n"
          ],
          "name": "stdout"
        }
      ]
    },
    {
      "cell_type": "code",
      "metadata": {
        "id": "SX_dCetLT6o-",
        "colab_type": "code",
        "outputId": "48bd42d4-81eb-4ea8-ae34-dc7d2b9f63ed",
        "colab": {
          "base_uri": "https://localhost:8080/",
          "height": 295
        }
      },
      "source": [
        "# Graficamos curva ROC\n",
        "plot_roc_curve(sv_2, X_val, y_val)\n",
        "plt.plot([0, 1], [0, 1], 'k--')\n",
        "plt.xlabel('Tasa de falsos positivos ')\n",
        "plt.ylabel('Tasa de verdaderos positivos')\n",
        "plt.title('Curva ROC')\n",
        "plt.show()"
      ],
      "execution_count": 35,
      "outputs": [
        {
          "output_type": "display_data",
          "data": {
            "image/png": "[encoded data removed]",
            "text/plain": [
              "<Figure size 432x288 with 1 Axes>"
            ]
          },
          "metadata": {
            "tags": []
          }
        }
      ]
    },
    {
      "cell_type": "code",
      "metadata": {
        "id": "IPyfGM0oTKKA",
        "colab_type": "code",
        "colab": {}
      },
      "source": [
        ""
      ],
      "execution_count": 0,
      "outputs": []
    },
    {
      "cell_type": "markdown",
      "metadata": {
        "id": "PyCAvQLjsFwt",
        "colab_type": "text"
      },
      "source": [
        "# Modelo 3. Random Forest"
      ]
    },
    {
      "cell_type": "code",
      "metadata": {
        "id": "3RBgR1Me8dQA",
        "colab_type": "code",
        "outputId": "ef66e58b-314a-40a9-b27a-a97cd3aa703a",
        "colab": {
          "base_uri": "https://localhost:8080/",
          "height": 67
        }
      },
      "source": [
        "random_forest = RandomForestClassifier(n_estimators=100, max_depth=5) # Instanciamos el modelo con 100 arboles y 5 de profundidad\n",
        "\n",
        "random_forest.fit(X_train, y_train)                                    # Entrenamos el modelo\n",
        "\n",
        "# Desempeño en accuracy entrenamiento\n",
        "print('El desempeño del random en train es de', accuracy_score(y_train, random_forest.predict(X_train)))\n",
        "\n",
        "# Desempeño en val\n",
        "print('El desempeño del random en validacion es de', accuracy_score(y_val, random_forest.predict(X_val)))\n",
        "\n",
        "# Desempeño en test \n",
        "print('El desempeño del random en test es de', accuracy_score(y_test, random_forest.predict(X_test)))"
      ],
      "execution_count": 36,
      "outputs": [
        {
          "output_type": "stream",
          "text": [
            "El desempeño del random en train es de 0.991177677472302\n",
            "El desempeño del random en validacion es de 0.9917948717948718\n",
            "El desempeño del random en test es de 0.9946153846153846\n"
          ],
          "name": "stdout"
        }
      ]
    },
    {
      "cell_type": "code",
      "metadata": {
        "id": "PseEnnmOC7sY",
        "colab_type": "code",
        "outputId": "c21f176d-e56f-4aa8-f431-6e8877a89829",
        "colab": {
          "base_uri": "https://localhost:8080/",
          "height": 168
        }
      },
      "source": [
        "# Observemos algunas metricas mas adecuadas para clasificacion binaria\n",
        "print(classification_report(y_val, random_forest.predict(X_val)))             # Revisamos metricas"
      ],
      "execution_count": 37,
      "outputs": [
        {
          "output_type": "stream",
          "text": [
            "              precision    recall  f1-score   support\n",
            "\n",
            "           0       1.00      0.98      0.99       940\n",
            "           1       0.98      1.00      0.99      1010\n",
            "\n",
            "    accuracy                           0.99      1950\n",
            "   macro avg       0.99      0.99      0.99      1950\n",
            "weighted avg       0.99      0.99      0.99      1950\n",
            "\n"
          ],
          "name": "stdout"
        }
      ]
    },
    {
      "cell_type": "code",
      "metadata": {
        "id": "5JmWXLR6HSpE",
        "colab_type": "code",
        "outputId": "485e2a18-dd64-473e-d393-0670769f6f0a",
        "colab": {
          "base_uri": "https://localhost:8080/",
          "height": 295
        }
      },
      "source": [
        "# Graficamos curva ROC\n",
        "plot_roc_curve(random_forest, X_val, y_val)\n",
        "plt.plot([0, 1], [0, 1], 'k--')\n",
        "plt.xlabel('Tasa de falsos positivos ')\n",
        "plt.ylabel('Tasa de verdaderos positivos')\n",
        "plt.title('Curva ROC')\n",
        "plt.show()\n",
        "plt.show()"
      ],
      "execution_count": 38,
      "outputs": [
        {
          "output_type": "display_data",
          "data": {
            "image/png": "[encoded data removed]",
            "text/plain": [
              "<Figure size 432x288 with 1 Axes>"
            ]
          },
          "metadata": {
            "tags": []
          }
        }
      ]
    },
    {
      "cell_type": "markdown",
      "metadata": {
        "id": "uOhNwkXeB6SK",
        "colab_type": "text"
      },
      "source": [
        "Observamos que el RandomForest claramente logra capturar el patron de los datos al utilizar los parametros:\n",
        "\n",
        "* `n_estimator = 100`\n",
        "* `max_depth = 5`\n",
        "\n",
        "Para evitar caer en un sobre ajuste, vamos a realizar un `GridSearch` buscando hipermarametros optimos y ajustando aquellos que pudieren llevar a tener un overtting."
      ]
    },
    {
      "cell_type": "markdown",
      "metadata": {
        "id": "MEFPkEEXCWXq",
        "colab_type": "text"
      },
      "source": [
        "Como primer paso, vamos a explorar el desempeño de los arboles utilizando un k-cross fold validation"
      ]
    },
    {
      "cell_type": "code",
      "metadata": {
        "id": "BN3TtQvaAlLc",
        "colab_type": "code",
        "outputId": "44bd9955-5c64-4abb-bc75-e1bf40865a9d",
        "colab": {
          "base_uri": "https://localhost:8080/",
          "height": 218
        }
      },
      "source": [
        "cv = cross_validate(estimator = random_forest, \n",
        "                    X = X_train, y = y_train, \n",
        "                    scoring='accuracy', n_jobs=-1, cv=10, \n",
        "                    verbose=10, \n",
        "                    return_train_score=True)\n",
        "cv"
      ],
      "execution_count": 39,
      "outputs": [
        {
          "output_type": "stream",
          "text": [
            "[Parallel(n_jobs=-1)]: Using backend LokyBackend with 2 concurrent workers.\n",
            "[Parallel(n_jobs=-1)]: Done   1 tasks      | elapsed:    1.9s\n",
            "[Parallel(n_jobs=-1)]: Done   4 tasks      | elapsed:    2.5s\n",
            "[Parallel(n_jobs=-1)]: Done  10 out of  10 | elapsed:    3.9s finished\n"
          ],
          "name": "stderr"
        },
        {
          "output_type": "execute_result",
          "data": {
            "text/plain": [
              "{'fit_time': array([0.37180614, 0.36950111, 0.37902379, 0.37536955, 0.38482499,\n",
              "        0.37861586, 0.38091683, 0.36932802, 0.37263823, 0.36909986]),\n",
              " 'score_time': array([0.02023196, 0.02053857, 0.01972866, 0.02019286, 0.01967788,\n",
              "        0.01965833, 0.02014422, 0.02035379, 0.01994467, 0.02024794]),\n",
              " 'test_score': array([0.98770492, 0.98565574, 0.99385246, 0.99180328, 0.99178645,\n",
              "        0.99794661, 0.99794661, 0.99794661, 0.97946612, 0.98151951]),\n",
              " 'train_score': array([0.98974008, 0.99133607, 0.99088007, 0.99156407, 0.99156599,\n",
              "        0.99156599, 0.99179394, 0.99088215, 0.9911101 , 0.99133804])}"
            ]
          },
          "metadata": {
            "tags": []
          },
          "execution_count": 39
        }
      ]
    },
    {
      "cell_type": "markdown",
      "metadata": {
        "id": "hRiemvXtIuCT",
        "colab_type": "text"
      },
      "source": [
        "Ahora si establecemos los valores de los hiperparametros de busqueda del RandomForest"
      ]
    },
    {
      "cell_type": "code",
      "metadata": {
        "id": "KkAnGUxD_mMe",
        "colab_type": "code",
        "colab": {}
      },
      "source": [
        "param_grid = {'n_estimators': [150,250,300],    # Aumentamos el numero de estimadores\n",
        "              'max_features': ['sqrt', 'log2'], # Intetamos reducir el numero de features a traves de estas funciones  \n",
        "              'max_depth':[5,8,10],\n",
        "              'criterion':['gini', 'entropy']}\n",
        "\n",
        "model_rf = GridSearchCV(estimator=random_forest, \n",
        "                        param_grid=param_grid, cv= 5, scoring = 'accuracy',\n",
        "                        n_jobs=-1)"
      ],
      "execution_count": 0,
      "outputs": []
    },
    {
      "cell_type": "code",
      "metadata": {
        "id": "gPqc4OwYI_6a",
        "colab_type": "code",
        "outputId": "65ebd839-4f73-44c3-8bc0-a272fa7e560e",
        "colab": {
          "base_uri": "https://localhost:8080/",
          "height": 403
        }
      },
      "source": [
        "model_rf.fit(X_train, y_train)                  # Ajustamos y optimzamos hiperparametros con el conjunto de train "
      ],
      "execution_count": 41,
      "outputs": [
        {
          "output_type": "execute_result",
          "data": {
            "text/plain": [
              "GridSearchCV(cv=5, error_score=nan,\n",
              "             estimator=RandomForestClassifier(bootstrap=True, ccp_alpha=0.0,\n",
              "                                              class_weight=None,\n",
              "                                              criterion='gini', max_depth=5,\n",
              "                                              max_features='auto',\n",
              "                                              max_leaf_nodes=None,\n",
              "                                              max_samples=None,\n",
              "                                              min_impurity_decrease=0.0,\n",
              "                                              min_impurity_split=None,\n",
              "                                              min_samples_leaf=1,\n",
              "                                              min_samples_split=2,\n",
              "                                              min_weight_fraction_leaf=0.0,\n",
              "                                              n_estimators=100, n_jobs=None,\n",
              "                                              oob_score=False,\n",
              "                                              random_state=None, verbose=0,\n",
              "                                              warm_start=False),\n",
              "             iid='deprecated', n_jobs=-1,\n",
              "             param_grid={'criterion': ['gini', 'entropy'],\n",
              "                         'max_depth': [5, 8, 10],\n",
              "                         'max_features': ['sqrt', 'log2'],\n",
              "                         'n_estimators': [150, 250, 300]},\n",
              "             pre_dispatch='2*n_jobs', refit=True, return_train_score=False,\n",
              "             scoring='accuracy', verbose=0)"
            ]
          },
          "metadata": {
            "tags": []
          },
          "execution_count": 41
        }
      ]
    },
    {
      "cell_type": "markdown",
      "metadata": {
        "id": "iPlR0XB9BOFU",
        "colab_type": "text"
      },
      "source": [
        "Vamos a realizar una regularización y un tunning de los hiperparametros"
      ]
    },
    {
      "cell_type": "code",
      "metadata": {
        "id": "uwAGk3_h_41x",
        "colab_type": "code",
        "outputId": "9b1e7f8f-5c08-45bb-af2d-7b1c6160c6b4",
        "colab": {
          "base_uri": "https://localhost:8080/",
          "height": 151
        }
      },
      "source": [
        "model_rf.best_estimator_"
      ],
      "execution_count": 42,
      "outputs": [
        {
          "output_type": "execute_result",
          "data": {
            "text/plain": [
              "RandomForestClassifier(bootstrap=True, ccp_alpha=0.0, class_weight=None,\n",
              "                       criterion='gini', max_depth=8, max_features='sqrt',\n",
              "                       max_leaf_nodes=None, max_samples=None,\n",
              "                       min_impurity_decrease=0.0, min_impurity_split=None,\n",
              "                       min_samples_leaf=1, min_samples_split=2,\n",
              "                       min_weight_fraction_leaf=0.0, n_estimators=150,\n",
              "                       n_jobs=None, oob_score=False, random_state=None,\n",
              "                       verbose=0, warm_start=False)"
            ]
          },
          "metadata": {
            "tags": []
          },
          "execution_count": 42
        }
      ]
    },
    {
      "cell_type": "code",
      "metadata": {
        "id": "ffZQEdjfJ0DA",
        "colab_type": "code",
        "outputId": "c283070f-cf97-45bd-e606-4e7b6f2fd71a",
        "colab": {
          "base_uri": "https://localhost:8080/",
          "height": 67
        }
      },
      "source": [
        "# Desempeño en accuracy entrenamiento\n",
        "print('El desempeño del random en train es de', accuracy_score(y_train, model_rf.predict(X_train)))\n",
        "\n",
        "# Desempeño en val\n",
        "print('El desempeño del random en validacion es de', accuracy_score(y_val, model_rf.predict(X_val)))\n",
        "\n",
        "# Desempeño en test \n",
        "print('El desempeño del random en test es de', accuracy_score(y_test, model_rf.predict(X_test)))"
      ],
      "execution_count": 43,
      "outputs": [
        {
          "output_type": "stream",
          "text": [
            "El desempeño del random en train es de 1.0\n",
            "El desempeño del random en validacion es de 1.0\n",
            "El desempeño del random en test es de 1.0\n"
          ],
          "name": "stdout"
        }
      ]
    },
    {
      "cell_type": "code",
      "metadata": {
        "id": "05kc8vVOJ0Fn",
        "colab_type": "code",
        "outputId": "6414728f-4eab-45e9-cd42-cda15e28f4d2",
        "colab": {
          "base_uri": "https://localhost:8080/",
          "height": 168
        }
      },
      "source": [
        "# Observemos algunas metricas mas adecuadas para clasificacion binaria\n",
        "print(classification_report(y_test, model_rf.predict(X_test)))             # Revisamos metricas"
      ],
      "execution_count": 44,
      "outputs": [
        {
          "output_type": "stream",
          "text": [
            "              precision    recall  f1-score   support\n",
            "\n",
            "           0       1.00      1.00      1.00       627\n",
            "           1       1.00      1.00      1.00       673\n",
            "\n",
            "    accuracy                           1.00      1300\n",
            "   macro avg       1.00      1.00      1.00      1300\n",
            "weighted avg       1.00      1.00      1.00      1300\n",
            "\n"
          ],
          "name": "stdout"
        }
      ]
    },
    {
      "cell_type": "code",
      "metadata": {
        "id": "643kGxCs_45H",
        "colab_type": "code",
        "outputId": "f07dc65c-f7eb-47f3-b952-06bba8d49aac",
        "colab": {
          "base_uri": "https://localhost:8080/",
          "height": 295
        }
      },
      "source": [
        "# Graficamos curva ROC\n",
        "plot_roc_curve(model_rf, X_test, y_test)\n",
        "plt.plot([0, 1], [0, 1], 'k--')\n",
        "plt.xlabel('Tasa de falsos positivos ')\n",
        "plt.ylabel('Tasa de verdaderos positivos')\n",
        "plt.title('Curva ROC')\n",
        "plt.show()\n",
        "plt.show()"
      ],
      "execution_count": 45,
      "outputs": [
        {
          "output_type": "display_data",
          "data": {
            "image/png": "[encoded data removed]",
            "text/plain": [
              "<Figure size 432x288 with 1 Axes>"
            ]
          },
          "metadata": {
            "tags": []
          }
        }
      ]
    }
  ]
}